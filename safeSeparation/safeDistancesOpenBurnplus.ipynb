{
  "cells": [
    {
      "cell_type": "markdown",
      "metadata": {
        "id": "view-in-github",
        "colab_type": "text"
      },
      "source": [
        "<a href=\"https://colab.research.google.com/github/clint-bg/publicationdata/blob/main/safeSeparation/safeDistancesOpenBurnplus.ipynb\" target=\"_parent\"><img src=\"https://colab.research.google.com/assets/colab-badge.svg\" alt=\"Open In Colab\"/></a>"
      ]
    },
    {
      "cell_type": "markdown",
      "metadata": {
        "tags": [],
        "id": "hnjN-eBta46G"
      },
      "source": [
        "# Heat Flux from Propellants and Fireworks\n",
        "***\n",
        "## Approach: Estimate the safe distance from test data\n",
        "This notebook summarizes over 750 heat flux experimental measurements by estimating the safe separation distance to prevent second degree burns. Clint Guymon\n",
        "***\n",
        "## Conclusions: The safe separation distance is adequately captured by the existing US IBD HD1.3 siting distance for unconfined scenarios."
      ]
    },
    {
      "cell_type": "markdown",
      "metadata": {
        "id": "Q9Om7g6Ma46J"
      },
      "source": [
        "***\n",
        "## Necessary code and data import"
      ]
    },
    {
      "cell_type": "code",
      "execution_count": 1,
      "metadata": {
        "code_folding": [],
        "tags": [],
        "id": "-UpONMkda46K"
      },
      "outputs": [],
      "source": [
        "#Import necessary packages\n",
        "#%matplotlib notebook\n",
        "from mpl_toolkits.mplot3d import Axes3D\n",
        "import matplotlib.pyplot as plt\n",
        "import numpy as np\n",
        "import pandas as pd\n",
        "import seaborn as sea; #sea.set_palette(sea.color_palette(\"Set2\")) #\"Paired\" \"cubehelix\"\n",
        "from scipy.optimize import fsolve, minimize\n",
        "from scipy.stats import t #import t distribution methods"
      ]
    },
    {
      "cell_type": "markdown",
      "metadata": {
        "id": "AZtxyd-Ua46M"
      },
      "source": [
        "### Import data"
      ]
    },
    {
      "cell_type": "markdown",
      "metadata": {
        "id": "4O_vTaWka46N"
      },
      "source": [
        "The majority of the heat flux data is from \"Scaling Studies of Thermal Radiation Flux from Burning Propellants\" by J. Hay and R.W. Watson of Bureau of Mines as commissioned by the DDESB in 1992. Data from 14 other references of burning energetic material where the heat flux was measured is also summarized."
      ]
    },
    {
      "cell_type": "code",
      "execution_count": 2,
      "metadata": {
        "tags": [],
        "id": "_StuOv4ea46N"
      },
      "outputs": [],
      "source": [
        "url = 'https://raw.githubusercontent.com/clint-bg/publicationdata/main/safeSeparation/heatfluxdataplus.csv' #url with raw data\n",
        "df = pd.read_csv(url)"
      ]
    },
    {
      "cell_type": "code",
      "source": [
        "df.columns"
      ],
      "metadata": {
        "colab": {
          "base_uri": "https://localhost:8080/"
        },
        "id": "TbxGirI4eIqx",
        "outputId": "60f2cfcd-f1c4-4945-a755-885236c007f2"
      },
      "execution_count": 3,
      "outputs": [
        {
          "output_type": "execute_result",
          "data": {
            "text/plain": [
              "Index(['Ref ID', 'Reference', 'Propellant type', 'Test #', 'Mass (kg)',\n",
              "       'Measurement Distance (m)', 'Burn time (sec)', 'Peak flux (cal/cm^2/s)',\n",
              "       'Av. flux (cal/cm^2/s)', 'Notes', 'Drum diameter (cm)', 'Type'],\n",
              "      dtype='object')"
            ]
          },
          "metadata": {},
          "execution_count": 3
        }
      ]
    },
    {
      "cell_type": "code",
      "execution_count": 4,
      "metadata": {
        "id": "YD_r-Cxoa46O"
      },
      "outputs": [],
      "source": [
        "#add new column for unique id = ref id + test id\n",
        "df['Unique ID'] = df.agg('R{0[Ref ID]}T{0[Test #]}'.format, axis=1)"
      ]
    },
    {
      "cell_type": "markdown",
      "metadata": {
        "id": "AVzMP_yra46P"
      },
      "source": [
        "## Data summary"
      ]
    },
    {
      "cell_type": "code",
      "execution_count": 5,
      "metadata": {
        "colab": {
          "base_uri": "https://localhost:8080/",
          "height": 551
        },
        "id": "nGv6Lwdoa46P",
        "outputId": "5da4a11b-00c2-4db3-cc28-9ce6425c1f01"
      },
      "outputs": [
        {
          "output_type": "execute_result",
          "data": {
            "text/plain": [
              "                                                      Reference  \\\n",
              "Ref ID                                                            \n",
              "1             [DDESB BOM \"SCALING STUDIES OF THERMAL RADIATI...   \n",
              "2             [TNO T 1022 \"Thermal Radiation of Fireworks\" 1...   \n",
              "3             [DDESB IIT Research Institute R. Pape T. Water...   \n",
              "4             [SMS C. Guymon \"Heat flux from the Top Ignitio...   \n",
              "5             [China Lake Ranges Test Operation Branch (DB11...   \n",
              "6             [ \"China Lake; Convective Combustion of Unconf...   \n",
              "7             [Blankenhagel, et al., \"Thermal radiation asse...   \n",
              "8             [Williams and Dunne, \"Heat Flux Measurement fr...   \n",
              "China Lake 1  [Covino, et al. Unpublished Data, China Lake N...   \n",
              "MSIAC 1       [Trinkler, \"Thermal Effects in Relation to Amm...   \n",
              "MSIAC 3       [Wyssen, \"Abbrandversuche mit Treibladungspulv...   \n",
              "MSIAC 4       [Wyssen, \"Thermische Wirkgrössen bei Pulverabb...   \n",
              "MSIAC 5       [Allain, \"Combustion of Gun Propellant in Iglo...   \n",
              "MSIAC 6       [Paquet et al., \"Modeling Propellant Fires Rad...   \n",
              "MSIAC 7       [Lucotte, \"Measurement and prediction of heat ...   \n",
              "\n",
              "                                               Propellant types  # of Tests  \n",
              "Ref ID                                                                       \n",
              "1             [IMR5010, M1-8-SP, M1-8-MP, WC844, WC846, WCBl...          49  \n",
              "2                                                   [Fireworks]          16  \n",
              "3                                                   [M1, WC844]          46  \n",
              "4                                                       [WC814]           1  \n",
              "5                                                          [M1]           1  \n",
              "6                                                          [M1]           2  \n",
              "7                                      [di-tert-butyl peroxide]           3  \n",
              "8                                                         [MTV]          12  \n",
              "China Lake 1                                               [M1]           2  \n",
              "MSIAC 1                                               [Cordite]           8  \n",
              "MSIAC 3                                 [GP11, 35mm propellant]          17  \n",
              "MSIAC 4                                          [20 mm powder]           6  \n",
              "MSIAC 5               [LB.7T.72 gun propellant (similar to M1)]           2  \n",
              "MSIAC 6                                    [SB1, SB2, DB1, DB2]          16  \n",
              "MSIAC 7                                      [\"hunting powder\"]           1  "
            ],
            "text/html": [
              "\n",
              "  <div id=\"df-920d4abd-caf9-47a8-b870-1654a66e50c3\">\n",
              "    <div class=\"colab-df-container\">\n",
              "      <div>\n",
              "<style scoped>\n",
              "    .dataframe tbody tr th:only-of-type {\n",
              "        vertical-align: middle;\n",
              "    }\n",
              "\n",
              "    .dataframe tbody tr th {\n",
              "        vertical-align: top;\n",
              "    }\n",
              "\n",
              "    .dataframe thead th {\n",
              "        text-align: right;\n",
              "    }\n",
              "</style>\n",
              "<table border=\"1\" class=\"dataframe\">\n",
              "  <thead>\n",
              "    <tr style=\"text-align: right;\">\n",
              "      <th></th>\n",
              "      <th>Reference</th>\n",
              "      <th>Propellant types</th>\n",
              "      <th># of Tests</th>\n",
              "    </tr>\n",
              "    <tr>\n",
              "      <th>Ref ID</th>\n",
              "      <th></th>\n",
              "      <th></th>\n",
              "      <th></th>\n",
              "    </tr>\n",
              "  </thead>\n",
              "  <tbody>\n",
              "    <tr>\n",
              "      <th>1</th>\n",
              "      <td>[DDESB BOM \"SCALING STUDIES OF THERMAL RADIATI...</td>\n",
              "      <td>[IMR5010, M1-8-SP, M1-8-MP, WC844, WC846, WCBl...</td>\n",
              "      <td>49</td>\n",
              "    </tr>\n",
              "    <tr>\n",
              "      <th>2</th>\n",
              "      <td>[TNO T 1022 \"Thermal Radiation of Fireworks\" 1...</td>\n",
              "      <td>[Fireworks]</td>\n",
              "      <td>16</td>\n",
              "    </tr>\n",
              "    <tr>\n",
              "      <th>3</th>\n",
              "      <td>[DDESB IIT Research Institute R. Pape T. Water...</td>\n",
              "      <td>[M1, WC844]</td>\n",
              "      <td>46</td>\n",
              "    </tr>\n",
              "    <tr>\n",
              "      <th>4</th>\n",
              "      <td>[SMS C. Guymon \"Heat flux from the Top Ignitio...</td>\n",
              "      <td>[WC814]</td>\n",
              "      <td>1</td>\n",
              "    </tr>\n",
              "    <tr>\n",
              "      <th>5</th>\n",
              "      <td>[China Lake Ranges Test Operation Branch (DB11...</td>\n",
              "      <td>[M1]</td>\n",
              "      <td>1</td>\n",
              "    </tr>\n",
              "    <tr>\n",
              "      <th>6</th>\n",
              "      <td>[ \"China Lake; Convective Combustion of Unconf...</td>\n",
              "      <td>[M1]</td>\n",
              "      <td>2</td>\n",
              "    </tr>\n",
              "    <tr>\n",
              "      <th>7</th>\n",
              "      <td>[Blankenhagel, et al., \"Thermal radiation asse...</td>\n",
              "      <td>[di-tert-butyl peroxide]</td>\n",
              "      <td>3</td>\n",
              "    </tr>\n",
              "    <tr>\n",
              "      <th>8</th>\n",
              "      <td>[Williams and Dunne, \"Heat Flux Measurement fr...</td>\n",
              "      <td>[MTV]</td>\n",
              "      <td>12</td>\n",
              "    </tr>\n",
              "    <tr>\n",
              "      <th>China Lake 1</th>\n",
              "      <td>[Covino, et al. Unpublished Data, China Lake N...</td>\n",
              "      <td>[M1]</td>\n",
              "      <td>2</td>\n",
              "    </tr>\n",
              "    <tr>\n",
              "      <th>MSIAC 1</th>\n",
              "      <td>[Trinkler, \"Thermal Effects in Relation to Amm...</td>\n",
              "      <td>[Cordite]</td>\n",
              "      <td>8</td>\n",
              "    </tr>\n",
              "    <tr>\n",
              "      <th>MSIAC 3</th>\n",
              "      <td>[Wyssen, \"Abbrandversuche mit Treibladungspulv...</td>\n",
              "      <td>[GP11, 35mm propellant]</td>\n",
              "      <td>17</td>\n",
              "    </tr>\n",
              "    <tr>\n",
              "      <th>MSIAC 4</th>\n",
              "      <td>[Wyssen, \"Thermische Wirkgrössen bei Pulverabb...</td>\n",
              "      <td>[20 mm powder]</td>\n",
              "      <td>6</td>\n",
              "    </tr>\n",
              "    <tr>\n",
              "      <th>MSIAC 5</th>\n",
              "      <td>[Allain, \"Combustion of Gun Propellant in Iglo...</td>\n",
              "      <td>[LB.7T.72 gun propellant (similar to M1)]</td>\n",
              "      <td>2</td>\n",
              "    </tr>\n",
              "    <tr>\n",
              "      <th>MSIAC 6</th>\n",
              "      <td>[Paquet et al., \"Modeling Propellant Fires Rad...</td>\n",
              "      <td>[SB1, SB2, DB1, DB2]</td>\n",
              "      <td>16</td>\n",
              "    </tr>\n",
              "    <tr>\n",
              "      <th>MSIAC 7</th>\n",
              "      <td>[Lucotte, \"Measurement and prediction of heat ...</td>\n",
              "      <td>[\"hunting powder\"]</td>\n",
              "      <td>1</td>\n",
              "    </tr>\n",
              "  </tbody>\n",
              "</table>\n",
              "</div>\n",
              "      <button class=\"colab-df-convert\" onclick=\"convertToInteractive('df-920d4abd-caf9-47a8-b870-1654a66e50c3')\"\n",
              "              title=\"Convert this dataframe to an interactive table.\"\n",
              "              style=\"display:none;\">\n",
              "        \n",
              "  <svg xmlns=\"http://www.w3.org/2000/svg\" height=\"24px\"viewBox=\"0 0 24 24\"\n",
              "       width=\"24px\">\n",
              "    <path d=\"M0 0h24v24H0V0z\" fill=\"none\"/>\n",
              "    <path d=\"M18.56 5.44l.94 2.06.94-2.06 2.06-.94-2.06-.94-.94-2.06-.94 2.06-2.06.94zm-11 1L8.5 8.5l.94-2.06 2.06-.94-2.06-.94L8.5 2.5l-.94 2.06-2.06.94zm10 10l.94 2.06.94-2.06 2.06-.94-2.06-.94-.94-2.06-.94 2.06-2.06.94z\"/><path d=\"M17.41 7.96l-1.37-1.37c-.4-.4-.92-.59-1.43-.59-.52 0-1.04.2-1.43.59L10.3 9.45l-7.72 7.72c-.78.78-.78 2.05 0 2.83L4 21.41c.39.39.9.59 1.41.59.51 0 1.02-.2 1.41-.59l7.78-7.78 2.81-2.81c.8-.78.8-2.07 0-2.86zM5.41 20L4 18.59l7.72-7.72 1.47 1.35L5.41 20z\"/>\n",
              "  </svg>\n",
              "      </button>\n",
              "      \n",
              "  <style>\n",
              "    .colab-df-container {\n",
              "      display:flex;\n",
              "      flex-wrap:wrap;\n",
              "      gap: 12px;\n",
              "    }\n",
              "\n",
              "    .colab-df-convert {\n",
              "      background-color: #E8F0FE;\n",
              "      border: none;\n",
              "      border-radius: 50%;\n",
              "      cursor: pointer;\n",
              "      display: none;\n",
              "      fill: #1967D2;\n",
              "      height: 32px;\n",
              "      padding: 0 0 0 0;\n",
              "      width: 32px;\n",
              "    }\n",
              "\n",
              "    .colab-df-convert:hover {\n",
              "      background-color: #E2EBFA;\n",
              "      box-shadow: 0px 1px 2px rgba(60, 64, 67, 0.3), 0px 1px 3px 1px rgba(60, 64, 67, 0.15);\n",
              "      fill: #174EA6;\n",
              "    }\n",
              "\n",
              "    [theme=dark] .colab-df-convert {\n",
              "      background-color: #3B4455;\n",
              "      fill: #D2E3FC;\n",
              "    }\n",
              "\n",
              "    [theme=dark] .colab-df-convert:hover {\n",
              "      background-color: #434B5C;\n",
              "      box-shadow: 0px 1px 3px 1px rgba(0, 0, 0, 0.15);\n",
              "      filter: drop-shadow(0px 1px 2px rgba(0, 0, 0, 0.3));\n",
              "      fill: #FFFFFF;\n",
              "    }\n",
              "  </style>\n",
              "\n",
              "      <script>\n",
              "        const buttonEl =\n",
              "          document.querySelector('#df-920d4abd-caf9-47a8-b870-1654a66e50c3 button.colab-df-convert');\n",
              "        buttonEl.style.display =\n",
              "          google.colab.kernel.accessAllowed ? 'block' : 'none';\n",
              "\n",
              "        async function convertToInteractive(key) {\n",
              "          const element = document.querySelector('#df-920d4abd-caf9-47a8-b870-1654a66e50c3');\n",
              "          const dataTable =\n",
              "            await google.colab.kernel.invokeFunction('convertToInteractive',\n",
              "                                                     [key], {});\n",
              "          if (!dataTable) return;\n",
              "\n",
              "          const docLinkHtml = 'Like what you see? Visit the ' +\n",
              "            '<a target=\"_blank\" href=https://colab.research.google.com/notebooks/data_table.ipynb>data table notebook</a>'\n",
              "            + ' to learn more about interactive tables.';\n",
              "          element.innerHTML = '';\n",
              "          dataTable['output_type'] = 'display_data';\n",
              "          await google.colab.output.renderOutput(dataTable, element);\n",
              "          const docLink = document.createElement('div');\n",
              "          docLink.innerHTML = docLinkHtml;\n",
              "          element.appendChild(docLink);\n",
              "        }\n",
              "      </script>\n",
              "    </div>\n",
              "  </div>\n",
              "  "
            ]
          },
          "metadata": {},
          "execution_count": 5
        }
      ],
      "source": [
        "summary = df.groupby('Ref ID')['Reference'].unique().to_frame()\n",
        "summary['Propellant types'] = df.groupby('Ref ID')['Propellant type'].unique()\n",
        "summary['# of Tests'] = df.groupby('Ref ID')['Unique ID'].nunique()\n",
        "summary"
      ]
    },
    {
      "cell_type": "code",
      "execution_count": 6,
      "metadata": {
        "colab": {
          "base_uri": "https://localhost:8080/"
        },
        "id": "4FfookNPa46Q",
        "outputId": "40e1f6af-bbbf-45dd-b06b-5a381440dbf3"
      },
      "outputs": [
        {
          "output_type": "stream",
          "name": "stdout",
          "text": [
            "0 : Blankenhagel, et al., \"Thermal radiation assessment of fireballs using infrared camera\" Journal of Loss Prevention in the Process Industries\n",
            "1 : Wyssen, \"Thermische Wirkgrössen bei Pulverabbränden\", Gruppe für Rüstungdienste / Technische Abteilung 6, Jan 1983\n",
            "2 : Covino, et al. Unpublished Data, China Lake NAWC\n",
            "3 : Allain, \"Combustion of Gun Propellant in Igloo Thermal Flux Measurements\", NT No 153/91/CRB-S/TS/NP, Dec 1991\n",
            "4 : DDESB IIT Research Institute R. Pape T. Waterman A. Takata \"Fire Hazards from Combustible Ammunition, Methodology Development (Phase I)\" 1980\n",
            "5 : SMS C. Guymon \"Heat flux from the Top Ignition of a Single Barrel of WC814\" TEAD 2020\n",
            "6 : Paquet et al., \"Modeling Propellant Fires Radiant Heat Flux\", JEM 2018\n",
            "7 : Trinkler, \"Thermal Effects in Relation to Ammunition Storage\", 1958\n",
            "8 : Williams and Dunne, \"Heat Flux Measurement from Bulk Magnesium/Teflon/Viton (MTV) Flare Composition Combustion\", Propellants, Explosives, and Pyrotechnics\n",
            "9 :  \"China Lake; Convective Combustion of Unconfined HD 1.3 Material in Fiber Barrels; Presentation by Auston Bon et al.\"\n",
            "10 : China Lake Ranges Test Operation Branch (DB1110M), \"Convective Combustion of a Hazard Division 1.3 M1 Gun Propellant in Fiber Barrels Heat Flux Data, 20 March 2020\n",
            "11 : Wyssen, \"Abbrandversuche mit Treibladungspulver in Mengen von 10 bis 1000 kg\", Gruppe für Rüstungsdienste / Tecnische Abteilung 6, Feb 1982\n",
            "12 : DDESB BOM \"SCALING STUDIES OF THERMAL RADIATION FLUX FROM BURNING PROPELLANTS\" Hay and Watson 1992\n",
            "13 : Lucotte, \"Measurement and prediction of heat flux in gun propellant fires\", Proceedings of the 20th DOD\n",
            "Safety Seminar, 1982\n",
            "14 : TNO T 1022 \"Thermal Radiation of Fireworks\" 1984\n"
          ]
        }
      ],
      "source": [
        "#References\n",
        "for i,each in enumerate(set(df['Reference'])):\n",
        "    print(i,\":\",each) "
      ]
    },
    {
      "cell_type": "code",
      "execution_count": 7,
      "metadata": {
        "colab": {
          "base_uri": "https://localhost:8080/"
        },
        "id": "KtzL3tBEa46R",
        "outputId": "5f3d7006-9131-4fca-e57f-f4bba919588c"
      },
      "outputs": [
        {
          "output_type": "execute_result",
          "data": {
            "text/plain": [
              "{'\"hunting powder\"',\n",
              " '20 mm powder',\n",
              " '35mm propellant',\n",
              " 'Cordite',\n",
              " 'DB1',\n",
              " 'DB2',\n",
              " 'Fireworks',\n",
              " 'GP11',\n",
              " 'IMR5010',\n",
              " 'LB.7T.72 gun propellant (similar to M1)',\n",
              " 'M1',\n",
              " 'M1-8-MP',\n",
              " 'M1-8-SP',\n",
              " 'MTV',\n",
              " 'SB1',\n",
              " 'SB2',\n",
              " 'WC814',\n",
              " 'WC844',\n",
              " 'WC846',\n",
              " 'WCBlank',\n",
              " 'di-tert-butyl peroxide'}"
            ]
          },
          "metadata": {},
          "execution_count": 7
        }
      ],
      "source": [
        "#propellant types\n",
        "set(df['Propellant type'])"
      ]
    },
    {
      "cell_type": "code",
      "execution_count": 8,
      "metadata": {
        "colab": {
          "base_uri": "https://localhost:8080/"
        },
        "id": "hzpIgORra46R",
        "outputId": "c636cd68-4c28-4de3-d04f-79ea563b9b05"
      },
      "outputs": [
        {
          "output_type": "execute_result",
          "data": {
            "text/plain": [
              "(Propellant type\n",
              " \"hunting powder\"                            1\n",
              " 20 mm powder                                6\n",
              " 35mm propellant                            15\n",
              " Cordite                                     8\n",
              " DB1                                         4\n",
              " DB2                                         2\n",
              " Fireworks                                  16\n",
              " GP11                                        2\n",
              " IMR5010                                    13\n",
              " LB.7T.72 gun propellant (similar to M1)     2\n",
              " M1                                         28\n",
              " M1-8-MP                                    12\n",
              " M1-8-SP                                    14\n",
              " MTV                                        12\n",
              " SB1                                         5\n",
              " SB2                                         5\n",
              " WC814                                       1\n",
              " WC844                                      27\n",
              " WC846                                       3\n",
              " WCBlank                                     3\n",
              " di-tert-butyl peroxide                      3\n",
              " Name: Unique ID, dtype: int64, 182)"
            ]
          },
          "metadata": {},
          "execution_count": 8
        }
      ],
      "source": [
        "#number of tests for each propellant\n",
        "df.groupby('Propellant type')['Unique ID'].nunique(), df.groupby('Propellant type')['Unique ID'].nunique().sum()"
      ]
    },
    {
      "cell_type": "code",
      "execution_count": 9,
      "metadata": {
        "colab": {
          "base_uri": "https://localhost:8080/"
        },
        "id": "goOQ7BkFa46R",
        "outputId": "a7862592-e23e-4f4d-814e-6bf3b7a99a99"
      },
      "outputs": [
        {
          "output_type": "execute_result",
          "data": {
            "text/plain": [
              "761"
            ]
          },
          "metadata": {},
          "execution_count": 9
        }
      ],
      "source": [
        "#total number of heat flux measurements\n",
        "len(df)"
      ]
    },
    {
      "cell_type": "code",
      "execution_count": 10,
      "metadata": {
        "colab": {
          "base_uri": "https://localhost:8080/",
          "height": 300
        },
        "id": "-IMHWkepa46S",
        "outputId": "de01f0e4-3626-4ad7-fe2b-0c99c4fb6ad9"
      },
      "outputs": [
        {
          "output_type": "execute_result",
          "data": {
            "text/plain": [
              "          Mass (kg)  Measurement Distance (m)  Burn time (sec)  \\\n",
              "count    761.000000                761.000000       725.000000   \n",
              "mean     377.719304                  8.357687        28.104690   \n",
              "std     1792.049616                  7.222126        30.391835   \n",
              "min        0.100000                  0.400000         0.400000   \n",
              "25%       25.000000                  3.000000         5.400000   \n",
              "50%       50.000000                  5.000000        19.000000   \n",
              "75%      136.100000                 10.000000        42.000000   \n",
              "max    18000.000000                 40.000000       215.000000   \n",
              "\n",
              "       Peak flux (cal/cm^2/s)  Av. flux (cal/cm^2/s)  Drum diameter (cm)  \n",
              "count              761.000000             761.000000          154.000000  \n",
              "mean                 3.963030               1.546210           59.376623  \n",
              "std                  8.186814               3.101482            3.829841  \n",
              "min                  0.001505               0.000000           36.000000  \n",
              "25%                  0.174000               0.072000           60.000000  \n",
              "50%                  0.574397               0.219634           60.000000  \n",
              "75%                  2.985431               1.292095           60.000000  \n",
              "max                 65.553588              24.737203           60.000000  "
            ],
            "text/html": [
              "\n",
              "  <div id=\"df-213b8118-ec4b-4518-9a11-3f6bf2bec7b5\">\n",
              "    <div class=\"colab-df-container\">\n",
              "      <div>\n",
              "<style scoped>\n",
              "    .dataframe tbody tr th:only-of-type {\n",
              "        vertical-align: middle;\n",
              "    }\n",
              "\n",
              "    .dataframe tbody tr th {\n",
              "        vertical-align: top;\n",
              "    }\n",
              "\n",
              "    .dataframe thead th {\n",
              "        text-align: right;\n",
              "    }\n",
              "</style>\n",
              "<table border=\"1\" class=\"dataframe\">\n",
              "  <thead>\n",
              "    <tr style=\"text-align: right;\">\n",
              "      <th></th>\n",
              "      <th>Mass (kg)</th>\n",
              "      <th>Measurement Distance (m)</th>\n",
              "      <th>Burn time (sec)</th>\n",
              "      <th>Peak flux (cal/cm^2/s)</th>\n",
              "      <th>Av. flux (cal/cm^2/s)</th>\n",
              "      <th>Drum diameter (cm)</th>\n",
              "    </tr>\n",
              "  </thead>\n",
              "  <tbody>\n",
              "    <tr>\n",
              "      <th>count</th>\n",
              "      <td>761.000000</td>\n",
              "      <td>761.000000</td>\n",
              "      <td>725.000000</td>\n",
              "      <td>761.000000</td>\n",
              "      <td>761.000000</td>\n",
              "      <td>154.000000</td>\n",
              "    </tr>\n",
              "    <tr>\n",
              "      <th>mean</th>\n",
              "      <td>377.719304</td>\n",
              "      <td>8.357687</td>\n",
              "      <td>28.104690</td>\n",
              "      <td>3.963030</td>\n",
              "      <td>1.546210</td>\n",
              "      <td>59.376623</td>\n",
              "    </tr>\n",
              "    <tr>\n",
              "      <th>std</th>\n",
              "      <td>1792.049616</td>\n",
              "      <td>7.222126</td>\n",
              "      <td>30.391835</td>\n",
              "      <td>8.186814</td>\n",
              "      <td>3.101482</td>\n",
              "      <td>3.829841</td>\n",
              "    </tr>\n",
              "    <tr>\n",
              "      <th>min</th>\n",
              "      <td>0.100000</td>\n",
              "      <td>0.400000</td>\n",
              "      <td>0.400000</td>\n",
              "      <td>0.001505</td>\n",
              "      <td>0.000000</td>\n",
              "      <td>36.000000</td>\n",
              "    </tr>\n",
              "    <tr>\n",
              "      <th>25%</th>\n",
              "      <td>25.000000</td>\n",
              "      <td>3.000000</td>\n",
              "      <td>5.400000</td>\n",
              "      <td>0.174000</td>\n",
              "      <td>0.072000</td>\n",
              "      <td>60.000000</td>\n",
              "    </tr>\n",
              "    <tr>\n",
              "      <th>50%</th>\n",
              "      <td>50.000000</td>\n",
              "      <td>5.000000</td>\n",
              "      <td>19.000000</td>\n",
              "      <td>0.574397</td>\n",
              "      <td>0.219634</td>\n",
              "      <td>60.000000</td>\n",
              "    </tr>\n",
              "    <tr>\n",
              "      <th>75%</th>\n",
              "      <td>136.100000</td>\n",
              "      <td>10.000000</td>\n",
              "      <td>42.000000</td>\n",
              "      <td>2.985431</td>\n",
              "      <td>1.292095</td>\n",
              "      <td>60.000000</td>\n",
              "    </tr>\n",
              "    <tr>\n",
              "      <th>max</th>\n",
              "      <td>18000.000000</td>\n",
              "      <td>40.000000</td>\n",
              "      <td>215.000000</td>\n",
              "      <td>65.553588</td>\n",
              "      <td>24.737203</td>\n",
              "      <td>60.000000</td>\n",
              "    </tr>\n",
              "  </tbody>\n",
              "</table>\n",
              "</div>\n",
              "      <button class=\"colab-df-convert\" onclick=\"convertToInteractive('df-213b8118-ec4b-4518-9a11-3f6bf2bec7b5')\"\n",
              "              title=\"Convert this dataframe to an interactive table.\"\n",
              "              style=\"display:none;\">\n",
              "        \n",
              "  <svg xmlns=\"http://www.w3.org/2000/svg\" height=\"24px\"viewBox=\"0 0 24 24\"\n",
              "       width=\"24px\">\n",
              "    <path d=\"M0 0h24v24H0V0z\" fill=\"none\"/>\n",
              "    <path d=\"M18.56 5.44l.94 2.06.94-2.06 2.06-.94-2.06-.94-.94-2.06-.94 2.06-2.06.94zm-11 1L8.5 8.5l.94-2.06 2.06-.94-2.06-.94L8.5 2.5l-.94 2.06-2.06.94zm10 10l.94 2.06.94-2.06 2.06-.94-2.06-.94-.94-2.06-.94 2.06-2.06.94z\"/><path d=\"M17.41 7.96l-1.37-1.37c-.4-.4-.92-.59-1.43-.59-.52 0-1.04.2-1.43.59L10.3 9.45l-7.72 7.72c-.78.78-.78 2.05 0 2.83L4 21.41c.39.39.9.59 1.41.59.51 0 1.02-.2 1.41-.59l7.78-7.78 2.81-2.81c.8-.78.8-2.07 0-2.86zM5.41 20L4 18.59l7.72-7.72 1.47 1.35L5.41 20z\"/>\n",
              "  </svg>\n",
              "      </button>\n",
              "      \n",
              "  <style>\n",
              "    .colab-df-container {\n",
              "      display:flex;\n",
              "      flex-wrap:wrap;\n",
              "      gap: 12px;\n",
              "    }\n",
              "\n",
              "    .colab-df-convert {\n",
              "      background-color: #E8F0FE;\n",
              "      border: none;\n",
              "      border-radius: 50%;\n",
              "      cursor: pointer;\n",
              "      display: none;\n",
              "      fill: #1967D2;\n",
              "      height: 32px;\n",
              "      padding: 0 0 0 0;\n",
              "      width: 32px;\n",
              "    }\n",
              "\n",
              "    .colab-df-convert:hover {\n",
              "      background-color: #E2EBFA;\n",
              "      box-shadow: 0px 1px 2px rgba(60, 64, 67, 0.3), 0px 1px 3px 1px rgba(60, 64, 67, 0.15);\n",
              "      fill: #174EA6;\n",
              "    }\n",
              "\n",
              "    [theme=dark] .colab-df-convert {\n",
              "      background-color: #3B4455;\n",
              "      fill: #D2E3FC;\n",
              "    }\n",
              "\n",
              "    [theme=dark] .colab-df-convert:hover {\n",
              "      background-color: #434B5C;\n",
              "      box-shadow: 0px 1px 3px 1px rgba(0, 0, 0, 0.15);\n",
              "      filter: drop-shadow(0px 1px 2px rgba(0, 0, 0, 0.3));\n",
              "      fill: #FFFFFF;\n",
              "    }\n",
              "  </style>\n",
              "\n",
              "      <script>\n",
              "        const buttonEl =\n",
              "          document.querySelector('#df-213b8118-ec4b-4518-9a11-3f6bf2bec7b5 button.colab-df-convert');\n",
              "        buttonEl.style.display =\n",
              "          google.colab.kernel.accessAllowed ? 'block' : 'none';\n",
              "\n",
              "        async function convertToInteractive(key) {\n",
              "          const element = document.querySelector('#df-213b8118-ec4b-4518-9a11-3f6bf2bec7b5');\n",
              "          const dataTable =\n",
              "            await google.colab.kernel.invokeFunction('convertToInteractive',\n",
              "                                                     [key], {});\n",
              "          if (!dataTable) return;\n",
              "\n",
              "          const docLinkHtml = 'Like what you see? Visit the ' +\n",
              "            '<a target=\"_blank\" href=https://colab.research.google.com/notebooks/data_table.ipynb>data table notebook</a>'\n",
              "            + ' to learn more about interactive tables.';\n",
              "          element.innerHTML = '';\n",
              "          dataTable['output_type'] = 'display_data';\n",
              "          await google.colab.output.renderOutput(dataTable, element);\n",
              "          const docLink = document.createElement('div');\n",
              "          docLink.innerHTML = docLinkHtml;\n",
              "          element.appendChild(docLink);\n",
              "        }\n",
              "      </script>\n",
              "    </div>\n",
              "  </div>\n",
              "  "
            ]
          },
          "metadata": {},
          "execution_count": 10
        }
      ],
      "source": [
        "df.describe() #summary statistics for numerical data"
      ]
    },
    {
      "cell_type": "code",
      "execution_count": 11,
      "metadata": {
        "colab": {
          "base_uri": "https://localhost:8080/",
          "height": 378
        },
        "id": "Ipc655kma46S",
        "outputId": "74f2b379-bff5-43ec-8429-b808d9561d35"
      },
      "outputs": [
        {
          "output_type": "execute_result",
          "data": {
            "text/plain": [
              "  Ref ID                                          Reference Propellant type  \\\n",
              "0      1  DDESB BOM \"SCALING STUDIES OF THERMAL RADIATIO...         IMR5010   \n",
              "1      1  DDESB BOM \"SCALING STUDIES OF THERMAL RADIATIO...         IMR5010   \n",
              "2      1  DDESB BOM \"SCALING STUDIES OF THERMAL RADIATIO...         IMR5010   \n",
              "\n",
              "  Test #  Mass (kg)  Measurement Distance (m)  Burn time (sec)  \\\n",
              "0      1       45.4                       8.0             35.0   \n",
              "1      1       45.4                       6.4             35.0   \n",
              "2      1       45.4                       5.0             35.0   \n",
              "\n",
              "   Peak flux (cal/cm^2/s)  Av. flux (cal/cm^2/s)   Notes  Drum diameter (cm)  \\\n",
              "0                   0.468                  0.127  Barrel                60.0   \n",
              "1                   0.576                  0.161  Barrel                60.0   \n",
              "2                   1.068                  0.289  Barrel                60.0   \n",
              "\n",
              "                          Type Unique ID  \n",
              "0  Unconfined Burn (Test Data)      R1T1  \n",
              "1  Unconfined Burn (Test Data)      R1T1  \n",
              "2  Unconfined Burn (Test Data)      R1T1  "
            ],
            "text/html": [
              "\n",
              "  <div id=\"df-fcf4ac99-40da-417c-8a7d-37e0e601f875\">\n",
              "    <div class=\"colab-df-container\">\n",
              "      <div>\n",
              "<style scoped>\n",
              "    .dataframe tbody tr th:only-of-type {\n",
              "        vertical-align: middle;\n",
              "    }\n",
              "\n",
              "    .dataframe tbody tr th {\n",
              "        vertical-align: top;\n",
              "    }\n",
              "\n",
              "    .dataframe thead th {\n",
              "        text-align: right;\n",
              "    }\n",
              "</style>\n",
              "<table border=\"1\" class=\"dataframe\">\n",
              "  <thead>\n",
              "    <tr style=\"text-align: right;\">\n",
              "      <th></th>\n",
              "      <th>Ref ID</th>\n",
              "      <th>Reference</th>\n",
              "      <th>Propellant type</th>\n",
              "      <th>Test #</th>\n",
              "      <th>Mass (kg)</th>\n",
              "      <th>Measurement Distance (m)</th>\n",
              "      <th>Burn time (sec)</th>\n",
              "      <th>Peak flux (cal/cm^2/s)</th>\n",
              "      <th>Av. flux (cal/cm^2/s)</th>\n",
              "      <th>Notes</th>\n",
              "      <th>Drum diameter (cm)</th>\n",
              "      <th>Type</th>\n",
              "      <th>Unique ID</th>\n",
              "    </tr>\n",
              "  </thead>\n",
              "  <tbody>\n",
              "    <tr>\n",
              "      <th>0</th>\n",
              "      <td>1</td>\n",
              "      <td>DDESB BOM \"SCALING STUDIES OF THERMAL RADIATIO...</td>\n",
              "      <td>IMR5010</td>\n",
              "      <td>1</td>\n",
              "      <td>45.4</td>\n",
              "      <td>8.0</td>\n",
              "      <td>35.0</td>\n",
              "      <td>0.468</td>\n",
              "      <td>0.127</td>\n",
              "      <td>Barrel</td>\n",
              "      <td>60.0</td>\n",
              "      <td>Unconfined Burn (Test Data)</td>\n",
              "      <td>R1T1</td>\n",
              "    </tr>\n",
              "    <tr>\n",
              "      <th>1</th>\n",
              "      <td>1</td>\n",
              "      <td>DDESB BOM \"SCALING STUDIES OF THERMAL RADIATIO...</td>\n",
              "      <td>IMR5010</td>\n",
              "      <td>1</td>\n",
              "      <td>45.4</td>\n",
              "      <td>6.4</td>\n",
              "      <td>35.0</td>\n",
              "      <td>0.576</td>\n",
              "      <td>0.161</td>\n",
              "      <td>Barrel</td>\n",
              "      <td>60.0</td>\n",
              "      <td>Unconfined Burn (Test Data)</td>\n",
              "      <td>R1T1</td>\n",
              "    </tr>\n",
              "    <tr>\n",
              "      <th>2</th>\n",
              "      <td>1</td>\n",
              "      <td>DDESB BOM \"SCALING STUDIES OF THERMAL RADIATIO...</td>\n",
              "      <td>IMR5010</td>\n",
              "      <td>1</td>\n",
              "      <td>45.4</td>\n",
              "      <td>5.0</td>\n",
              "      <td>35.0</td>\n",
              "      <td>1.068</td>\n",
              "      <td>0.289</td>\n",
              "      <td>Barrel</td>\n",
              "      <td>60.0</td>\n",
              "      <td>Unconfined Burn (Test Data)</td>\n",
              "      <td>R1T1</td>\n",
              "    </tr>\n",
              "  </tbody>\n",
              "</table>\n",
              "</div>\n",
              "      <button class=\"colab-df-convert\" onclick=\"convertToInteractive('df-fcf4ac99-40da-417c-8a7d-37e0e601f875')\"\n",
              "              title=\"Convert this dataframe to an interactive table.\"\n",
              "              style=\"display:none;\">\n",
              "        \n",
              "  <svg xmlns=\"http://www.w3.org/2000/svg\" height=\"24px\"viewBox=\"0 0 24 24\"\n",
              "       width=\"24px\">\n",
              "    <path d=\"M0 0h24v24H0V0z\" fill=\"none\"/>\n",
              "    <path d=\"M18.56 5.44l.94 2.06.94-2.06 2.06-.94-2.06-.94-.94-2.06-.94 2.06-2.06.94zm-11 1L8.5 8.5l.94-2.06 2.06-.94-2.06-.94L8.5 2.5l-.94 2.06-2.06.94zm10 10l.94 2.06.94-2.06 2.06-.94-2.06-.94-.94-2.06-.94 2.06-2.06.94z\"/><path d=\"M17.41 7.96l-1.37-1.37c-.4-.4-.92-.59-1.43-.59-.52 0-1.04.2-1.43.59L10.3 9.45l-7.72 7.72c-.78.78-.78 2.05 0 2.83L4 21.41c.39.39.9.59 1.41.59.51 0 1.02-.2 1.41-.59l7.78-7.78 2.81-2.81c.8-.78.8-2.07 0-2.86zM5.41 20L4 18.59l7.72-7.72 1.47 1.35L5.41 20z\"/>\n",
              "  </svg>\n",
              "      </button>\n",
              "      \n",
              "  <style>\n",
              "    .colab-df-container {\n",
              "      display:flex;\n",
              "      flex-wrap:wrap;\n",
              "      gap: 12px;\n",
              "    }\n",
              "\n",
              "    .colab-df-convert {\n",
              "      background-color: #E8F0FE;\n",
              "      border: none;\n",
              "      border-radius: 50%;\n",
              "      cursor: pointer;\n",
              "      display: none;\n",
              "      fill: #1967D2;\n",
              "      height: 32px;\n",
              "      padding: 0 0 0 0;\n",
              "      width: 32px;\n",
              "    }\n",
              "\n",
              "    .colab-df-convert:hover {\n",
              "      background-color: #E2EBFA;\n",
              "      box-shadow: 0px 1px 2px rgba(60, 64, 67, 0.3), 0px 1px 3px 1px rgba(60, 64, 67, 0.15);\n",
              "      fill: #174EA6;\n",
              "    }\n",
              "\n",
              "    [theme=dark] .colab-df-convert {\n",
              "      background-color: #3B4455;\n",
              "      fill: #D2E3FC;\n",
              "    }\n",
              "\n",
              "    [theme=dark] .colab-df-convert:hover {\n",
              "      background-color: #434B5C;\n",
              "      box-shadow: 0px 1px 3px 1px rgba(0, 0, 0, 0.15);\n",
              "      filter: drop-shadow(0px 1px 2px rgba(0, 0, 0, 0.3));\n",
              "      fill: #FFFFFF;\n",
              "    }\n",
              "  </style>\n",
              "\n",
              "      <script>\n",
              "        const buttonEl =\n",
              "          document.querySelector('#df-fcf4ac99-40da-417c-8a7d-37e0e601f875 button.colab-df-convert');\n",
              "        buttonEl.style.display =\n",
              "          google.colab.kernel.accessAllowed ? 'block' : 'none';\n",
              "\n",
              "        async function convertToInteractive(key) {\n",
              "          const element = document.querySelector('#df-fcf4ac99-40da-417c-8a7d-37e0e601f875');\n",
              "          const dataTable =\n",
              "            await google.colab.kernel.invokeFunction('convertToInteractive',\n",
              "                                                     [key], {});\n",
              "          if (!dataTable) return;\n",
              "\n",
              "          const docLinkHtml = 'Like what you see? Visit the ' +\n",
              "            '<a target=\"_blank\" href=https://colab.research.google.com/notebooks/data_table.ipynb>data table notebook</a>'\n",
              "            + ' to learn more about interactive tables.';\n",
              "          element.innerHTML = '';\n",
              "          dataTable['output_type'] = 'display_data';\n",
              "          await google.colab.output.renderOutput(dataTable, element);\n",
              "          const docLink = document.createElement('div');\n",
              "          docLink.innerHTML = docLinkHtml;\n",
              "          element.appendChild(docLink);\n",
              "        }\n",
              "      </script>\n",
              "    </div>\n",
              "  </div>\n",
              "  "
            ]
          },
          "metadata": {},
          "execution_count": 11
        }
      ],
      "source": [
        "df.head(3) #first 3 rows of the data frame"
      ]
    },
    {
      "cell_type": "markdown",
      "metadata": {
        "id": "v5vdmI6ia46T"
      },
      "source": [
        "## Plot of the Safe Heat Flux vs. Exposure Time"
      ]
    },
    {
      "cell_type": "markdown",
      "metadata": {
        "id": "atR9QZYDa46T"
      },
      "source": [
        "Safe heat flux is per 6055.09, 2012, V1.E9.3.1.2 to prevent second degree burns. with the included limit that after a duration of 20 seconds, the allowable heat flux remains constant with increasing exposure time. "
      ]
    },
    {
      "cell_type": "code",
      "execution_count": 12,
      "metadata": {
        "id": "smzBhgKda46N"
      },
      "outputs": [],
      "source": [
        "#define a safe heat flux as a function of distance per second degree burns and a max exposure time of 20 seconds\n",
        "#(per 6055.09, 2012, V1.E9.3.1.2 to prevent second degree burns)\n",
        "qsafeat20 = 0.116 #qsafe at 20 second exposure\n",
        "def safeHF(t):\n",
        "    return (t/0.858)**(-1/1.46) if t<20 else qsafeat20"
      ]
    },
    {
      "cell_type": "code",
      "source": [
        "#add column for safe heat flux \n",
        "safeQ = df.groupby('Unique ID').apply(lambda x: np.percentile(\n",
        "    [safeHF(x) for x in x['Burn time (sec)']],75))\n",
        "safeQ.name = 'Safe Heat Flux (cal/cm2/sec)'\n",
        "#add to dataframe\n",
        "df['Safe Heat Flux (cal/cm2/sec)'] = df['Unique ID'].apply(lambda x:safeQ.loc[x])"
      ],
      "metadata": {
        "id": "AAfWcoYfiI20"
      },
      "execution_count": 13,
      "outputs": []
    },
    {
      "cell_type": "code",
      "execution_count": 14,
      "metadata": {
        "scrolled": false,
        "colab": {
          "base_uri": "https://localhost:8080/",
          "height": 283
        },
        "id": "HxRrSjrza46T",
        "outputId": "c7b49045-38b3-4ea0-d67d-c29235b9088b"
      },
      "outputs": [
        {
          "output_type": "display_data",
          "data": {
            "text/plain": [
              "<Figure size 432x288 with 1 Axes>"
            ],
            "image/png": "[encoded data removed]"
          },
          "metadata": {
            "needs_background": "light"
          }
        }
      ],
      "source": [
        "fig, ax = plt.subplots(1,1,figsize=(6,4))\n",
        "x = np.arange(.1,200,0.05); y=[safeHF(x) for x in x]; \n",
        "ax.set_xscale('log');\n",
        "plt.plot(x,y);\n",
        "ax.fill_between(x,y,color=\"blue\", alpha=0.1)\n",
        "plt.text(0.2, 1, 'Safe');plt.text(3, 1, 'Unsafe');plt.text(40, 0.2, '0.116') #, bbox=dict(facecolor='red', alpha=0.5))\n",
        "plt.text(.25,3,'$q_{safe}=(t/0.858)^{-1/1.46}$')\n",
        "plt.xlabel('Exposure Time, sec');plt.ylabel('Heat Flux, cal/cm2/sec')\n",
        "plt.show(block=False)"
      ]
    },
    {
      "cell_type": "markdown",
      "metadata": {
        "id": "ULIAVo_Ka46U"
      },
      "source": [
        "Here, burn time is equated to the exposure time. After 20 seconds the allowed heat flux is constant at 0.116 cal/cm2/s"
      ]
    },
    {
      "cell_type": "markdown",
      "metadata": {
        "id": "V6ReJjtVa46U"
      },
      "source": [
        "### Calculate a safe distance based on the point source model"
      ]
    },
    {
      "cell_type": "markdown",
      "metadata": {
        "id": "vmU0I91da46U"
      },
      "source": [
        "Calculate a safe distance based on the average heat flux. The average heat flux is used instead of the peak heat flux as the peak heat flux is a short term event and is a small fraction of the total burn typically. The parameters of a Point Source Model are found according to the following where $r^2$ is the squared distance from the center of the fire: \n",
        "\\begin{equation}\n",
        "q = \\frac{\\alpha}{r^2} \\\\\n",
        "\\end{equation}"
      ]
    },
    {
      "cell_type": "code",
      "execution_count": 15,
      "metadata": {
        "id": "hHonCjF4a46V"
      },
      "outputs": [],
      "source": [
        "#completed for each test (unique id)\n",
        "alphas = df.groupby('Unique ID').apply(lambda x: np.percentile(\n",
        "    x['Av. flux (cal/cm^2/s)']*x['Measurement Distance (m)']**2,75))\n",
        "#alphas = [1 if each < 1 else each for each in alphas]\n",
        "safeDistance = np.sqrt(alphas/safeQ)\n",
        "safeDistance = pd.Series(safeDistance)\n",
        "safeDistance.name = 'Safe Distance (m)'\n",
        "safeDistance.index = safeQ.index"
      ]
    },
    {
      "cell_type": "code",
      "source": [
        "#add column for safe distance\n",
        "df['Safe Distance (m)'] =  df['Unique ID'].apply(lambda x:safeDistance.loc[x])\n",
        "#add column for burn rate\n",
        "burnRate = df.groupby('Unique ID').apply(lambda x: np.percentile(x['Mass (kg)']/x['Burn time (sec)'],50))\n",
        "burnRate.name = 'Burn rate (kg/s)'\n",
        "df['Burn rate (kg/s)'] =  df['Unique ID'].apply(lambda x:burnRate.loc[x])"
      ],
      "metadata": {
        "id": "SC1C-d-EYtWC"
      },
      "execution_count": 16,
      "outputs": []
    },
    {
      "cell_type": "code",
      "source": [
        "safeDistance = pd.DataFrame(safeDistance)\n",
        "safeDistance['Propellant type'] = df.groupby('Unique ID').apply(lambda x: x['Propellant type'].iloc[0])\n",
        "safeDistance['Mass (kg)'] = df.groupby('Unique ID').apply(lambda x: x['Mass (kg)'].iloc[0])\n",
        "safeDistance['Safe Heat Flux (cal/cm2/sec)'] = df.groupby('Unique ID').apply(lambda x: x['Safe Heat Flux (cal/cm2/sec)'].iloc[0])\n",
        "safeDistance['alphas'] = alphas"
      ],
      "metadata": {
        "id": "n4kTjthRV1eq"
      },
      "execution_count": 17,
      "outputs": []
    },
    {
      "cell_type": "code",
      "source": [
        "safeDistance[safeDistance['Propellant type']=='M1-8-MP']"
      ],
      "metadata": {
        "colab": {
          "base_uri": "https://localhost:8080/",
          "height": 457
        },
        "id": "jbSRCE0xZGtk",
        "outputId": "3cddd0b5-dff7-4229-9311-a800f6848daa"
      },
      "execution_count": 18,
      "outputs": [
        {
          "output_type": "execute_result",
          "data": {
            "text/plain": [
              "           Safe Distance (m) Propellant type  Mass (kg)  \\\n",
              "Unique ID                                                 \n",
              "R1T12               7.974583         M1-8-MP       47.6   \n",
              "R1T16              11.077484         M1-8-MP       47.6   \n",
              "R1T17               9.998706         M1-8-MP       47.6   \n",
              "R1T24              14.137273         M1-8-MP       95.3   \n",
              "R1T25              14.661709         M1-8-MP       95.3   \n",
              "R1T3                8.683471         M1-8-MP       47.6   \n",
              "R1T30              15.398794         M1-8-MP      190.5   \n",
              "R1T33              10.339499         M1-8-MP       47.6   \n",
              "R1T36              15.425773         M1-8-MP      142.9   \n",
              "R1T39              18.711167         M1-8-MP      381.0   \n",
              "R1T6                9.526153         M1-8-MP       47.6   \n",
              "R1T9                8.639932         M1-8-MP       47.6   \n",
              "\n",
              "           Safe Heat Flux (cal/cm2/sec)    alphas  \n",
              "Unique ID                                          \n",
              "R1T12                          0.199918  12.71360  \n",
              "R1T16                          0.155406  19.07000  \n",
              "R1T17                          0.164164  16.41216  \n",
              "R1T24                          0.140897  28.16000  \n",
              "R1T25                          0.140897  30.28800  \n",
              "R1T3                           0.140897  10.62400  \n",
              "R1T30                          0.116000  27.50625  \n",
              "R1T33                          0.164164  17.55000  \n",
              "R1T36                          0.117722  28.01250  \n",
              "R1T39                          0.116000  40.61250  \n",
              "R1T6                           0.116000  10.52672  \n",
              "R1T9                           0.164164  12.25459  "
            ],
            "text/html": [
              "\n",
              "  <div id=\"df-6618dd28-98c7-46be-9a68-5ba8241532ce\">\n",
              "    <div class=\"colab-df-container\">\n",
              "      <div>\n",
              "<style scoped>\n",
              "    .dataframe tbody tr th:only-of-type {\n",
              "        vertical-align: middle;\n",
              "    }\n",
              "\n",
              "    .dataframe tbody tr th {\n",
              "        vertical-align: top;\n",
              "    }\n",
              "\n",
              "    .dataframe thead th {\n",
              "        text-align: right;\n",
              "    }\n",
              "</style>\n",
              "<table border=\"1\" class=\"dataframe\">\n",
              "  <thead>\n",
              "    <tr style=\"text-align: right;\">\n",
              "      <th></th>\n",
              "      <th>Safe Distance (m)</th>\n",
              "      <th>Propellant type</th>\n",
              "      <th>Mass (kg)</th>\n",
              "      <th>Safe Heat Flux (cal/cm2/sec)</th>\n",
              "      <th>alphas</th>\n",
              "    </tr>\n",
              "    <tr>\n",
              "      <th>Unique ID</th>\n",
              "      <th></th>\n",
              "      <th></th>\n",
              "      <th></th>\n",
              "      <th></th>\n",
              "      <th></th>\n",
              "    </tr>\n",
              "  </thead>\n",
              "  <tbody>\n",
              "    <tr>\n",
              "      <th>R1T12</th>\n",
              "      <td>7.974583</td>\n",
              "      <td>M1-8-MP</td>\n",
              "      <td>47.6</td>\n",
              "      <td>0.199918</td>\n",
              "      <td>12.71360</td>\n",
              "    </tr>\n",
              "    <tr>\n",
              "      <th>R1T16</th>\n",
              "      <td>11.077484</td>\n",
              "      <td>M1-8-MP</td>\n",
              "      <td>47.6</td>\n",
              "      <td>0.155406</td>\n",
              "      <td>19.07000</td>\n",
              "    </tr>\n",
              "    <tr>\n",
              "      <th>R1T17</th>\n",
              "      <td>9.998706</td>\n",
              "      <td>M1-8-MP</td>\n",
              "      <td>47.6</td>\n",
              "      <td>0.164164</td>\n",
              "      <td>16.41216</td>\n",
              "    </tr>\n",
              "    <tr>\n",
              "      <th>R1T24</th>\n",
              "      <td>14.137273</td>\n",
              "      <td>M1-8-MP</td>\n",
              "      <td>95.3</td>\n",
              "      <td>0.140897</td>\n",
              "      <td>28.16000</td>\n",
              "    </tr>\n",
              "    <tr>\n",
              "      <th>R1T25</th>\n",
              "      <td>14.661709</td>\n",
              "      <td>M1-8-MP</td>\n",
              "      <td>95.3</td>\n",
              "      <td>0.140897</td>\n",
              "      <td>30.28800</td>\n",
              "    </tr>\n",
              "    <tr>\n",
              "      <th>R1T3</th>\n",
              "      <td>8.683471</td>\n",
              "      <td>M1-8-MP</td>\n",
              "      <td>47.6</td>\n",
              "      <td>0.140897</td>\n",
              "      <td>10.62400</td>\n",
              "    </tr>\n",
              "    <tr>\n",
              "      <th>R1T30</th>\n",
              "      <td>15.398794</td>\n",
              "      <td>M1-8-MP</td>\n",
              "      <td>190.5</td>\n",
              "      <td>0.116000</td>\n",
              "      <td>27.50625</td>\n",
              "    </tr>\n",
              "    <tr>\n",
              "      <th>R1T33</th>\n",
              "      <td>10.339499</td>\n",
              "      <td>M1-8-MP</td>\n",
              "      <td>47.6</td>\n",
              "      <td>0.164164</td>\n",
              "      <td>17.55000</td>\n",
              "    </tr>\n",
              "    <tr>\n",
              "      <th>R1T36</th>\n",
              "      <td>15.425773</td>\n",
              "      <td>M1-8-MP</td>\n",
              "      <td>142.9</td>\n",
              "      <td>0.117722</td>\n",
              "      <td>28.01250</td>\n",
              "    </tr>\n",
              "    <tr>\n",
              "      <th>R1T39</th>\n",
              "      <td>18.711167</td>\n",
              "      <td>M1-8-MP</td>\n",
              "      <td>381.0</td>\n",
              "      <td>0.116000</td>\n",
              "      <td>40.61250</td>\n",
              "    </tr>\n",
              "    <tr>\n",
              "      <th>R1T6</th>\n",
              "      <td>9.526153</td>\n",
              "      <td>M1-8-MP</td>\n",
              "      <td>47.6</td>\n",
              "      <td>0.116000</td>\n",
              "      <td>10.52672</td>\n",
              "    </tr>\n",
              "    <tr>\n",
              "      <th>R1T9</th>\n",
              "      <td>8.639932</td>\n",
              "      <td>M1-8-MP</td>\n",
              "      <td>47.6</td>\n",
              "      <td>0.164164</td>\n",
              "      <td>12.25459</td>\n",
              "    </tr>\n",
              "  </tbody>\n",
              "</table>\n",
              "</div>\n",
              "      <button class=\"colab-df-convert\" onclick=\"convertToInteractive('df-6618dd28-98c7-46be-9a68-5ba8241532ce')\"\n",
              "              title=\"Convert this dataframe to an interactive table.\"\n",
              "              style=\"display:none;\">\n",
              "        \n",
              "  <svg xmlns=\"http://www.w3.org/2000/svg\" height=\"24px\"viewBox=\"0 0 24 24\"\n",
              "       width=\"24px\">\n",
              "    <path d=\"M0 0h24v24H0V0z\" fill=\"none\"/>\n",
              "    <path d=\"M18.56 5.44l.94 2.06.94-2.06 2.06-.94-2.06-.94-.94-2.06-.94 2.06-2.06.94zm-11 1L8.5 8.5l.94-2.06 2.06-.94-2.06-.94L8.5 2.5l-.94 2.06-2.06.94zm10 10l.94 2.06.94-2.06 2.06-.94-2.06-.94-.94-2.06-.94 2.06-2.06.94z\"/><path d=\"M17.41 7.96l-1.37-1.37c-.4-.4-.92-.59-1.43-.59-.52 0-1.04.2-1.43.59L10.3 9.45l-7.72 7.72c-.78.78-.78 2.05 0 2.83L4 21.41c.39.39.9.59 1.41.59.51 0 1.02-.2 1.41-.59l7.78-7.78 2.81-2.81c.8-.78.8-2.07 0-2.86zM5.41 20L4 18.59l7.72-7.72 1.47 1.35L5.41 20z\"/>\n",
              "  </svg>\n",
              "      </button>\n",
              "      \n",
              "  <style>\n",
              "    .colab-df-container {\n",
              "      display:flex;\n",
              "      flex-wrap:wrap;\n",
              "      gap: 12px;\n",
              "    }\n",
              "\n",
              "    .colab-df-convert {\n",
              "      background-color: #E8F0FE;\n",
              "      border: none;\n",
              "      border-radius: 50%;\n",
              "      cursor: pointer;\n",
              "      display: none;\n",
              "      fill: #1967D2;\n",
              "      height: 32px;\n",
              "      padding: 0 0 0 0;\n",
              "      width: 32px;\n",
              "    }\n",
              "\n",
              "    .colab-df-convert:hover {\n",
              "      background-color: #E2EBFA;\n",
              "      box-shadow: 0px 1px 2px rgba(60, 64, 67, 0.3), 0px 1px 3px 1px rgba(60, 64, 67, 0.15);\n",
              "      fill: #174EA6;\n",
              "    }\n",
              "\n",
              "    [theme=dark] .colab-df-convert {\n",
              "      background-color: #3B4455;\n",
              "      fill: #D2E3FC;\n",
              "    }\n",
              "\n",
              "    [theme=dark] .colab-df-convert:hover {\n",
              "      background-color: #434B5C;\n",
              "      box-shadow: 0px 1px 3px 1px rgba(0, 0, 0, 0.15);\n",
              "      filter: drop-shadow(0px 1px 2px rgba(0, 0, 0, 0.3));\n",
              "      fill: #FFFFFF;\n",
              "    }\n",
              "  </style>\n",
              "\n",
              "      <script>\n",
              "        const buttonEl =\n",
              "          document.querySelector('#df-6618dd28-98c7-46be-9a68-5ba8241532ce button.colab-df-convert');\n",
              "        buttonEl.style.display =\n",
              "          google.colab.kernel.accessAllowed ? 'block' : 'none';\n",
              "\n",
              "        async function convertToInteractive(key) {\n",
              "          const element = document.querySelector('#df-6618dd28-98c7-46be-9a68-5ba8241532ce');\n",
              "          const dataTable =\n",
              "            await google.colab.kernel.invokeFunction('convertToInteractive',\n",
              "                                                     [key], {});\n",
              "          if (!dataTable) return;\n",
              "\n",
              "          const docLinkHtml = 'Like what you see? Visit the ' +\n",
              "            '<a target=\"_blank\" href=https://colab.research.google.com/notebooks/data_table.ipynb>data table notebook</a>'\n",
              "            + ' to learn more about interactive tables.';\n",
              "          element.innerHTML = '';\n",
              "          dataTable['output_type'] = 'display_data';\n",
              "          await google.colab.output.renderOutput(dataTable, element);\n",
              "          const docLink = document.createElement('div');\n",
              "          docLink.innerHTML = docLinkHtml;\n",
              "          element.appendChild(docLink);\n",
              "        }\n",
              "      </script>\n",
              "    </div>\n",
              "  </div>\n",
              "  "
            ]
          },
          "metadata": {},
          "execution_count": 18
        }
      ]
    },
    {
      "cell_type": "code",
      "source": [
        "#example analysis result for Safe Distance given test results\n",
        "df[df['Unique ID']=='RMSIAC 6TC4']#['Av. flux (cal/cm^2/s)']"
      ],
      "metadata": {
        "colab": {
          "base_uri": "https://localhost:8080/",
          "height": 502
        },
        "id": "isAzxxT7Bdx7",
        "outputId": "cfa48bd1-8826-44e8-e371-210ec65b6913"
      },
      "execution_count": 19,
      "outputs": [
        {
          "output_type": "execute_result",
          "data": {
            "text/plain": [
              "      Ref ID                                          Reference  \\\n",
              "690  MSIAC 6  Paquet et al., \"Modeling Propellant Fires Radi...   \n",
              "691  MSIAC 6  Paquet et al., \"Modeling Propellant Fires Radi...   \n",
              "692  MSIAC 6  Paquet et al., \"Modeling Propellant Fires Radi...   \n",
              "\n",
              "    Propellant type Test #  Mass (kg)  Measurement Distance (m)  \\\n",
              "690             DB1     C4      525.0                      20.0   \n",
              "691             DB1     C4      525.0                      16.0   \n",
              "692             DB1     C4      525.0                       8.0   \n",
              "\n",
              "     Burn time (sec)  Peak flux (cal/cm^2/s)  Av. flux (cal/cm^2/s)  \\\n",
              "690              7.1                1.105804               0.552902   \n",
              "691              7.1                2.631956               1.315978   \n",
              "692              7.1                5.201815               2.600908   \n",
              "\n",
              "                                                 Notes  Drum diameter (cm)  \\\n",
              "690  Ave heat flux is estimated from the peak heat ...                 NaN   \n",
              "691  Ave heat flux is estimated from the peak heat ...                 NaN   \n",
              "692  Ave heat flux is estimated from the peak heat ...                 NaN   \n",
              "\n",
              "                   Type    Unique ID  Safe Heat Flux (cal/cm2/sec)  \\\n",
              "690  ? Burn (Test Data)  RMSIAC 6TC4                      0.235174   \n",
              "691  ? Burn (Test Data)  RMSIAC 6TC4                      0.235174   \n",
              "692  ? Burn (Test Data)  RMSIAC 6TC4                      0.235174   \n",
              "\n",
              "     Safe Distance (m)  Burn rate (kg/s)  \n",
              "690          34.445076         73.943662  \n",
              "691          34.445076         73.943662  \n",
              "692          34.445076         73.943662  "
            ],
            "text/html": [
              "\n",
              "  <div id=\"df-65e77f8f-3bd8-4563-9bf3-dbbd0b848cc7\">\n",
              "    <div class=\"colab-df-container\">\n",
              "      <div>\n",
              "<style scoped>\n",
              "    .dataframe tbody tr th:only-of-type {\n",
              "        vertical-align: middle;\n",
              "    }\n",
              "\n",
              "    .dataframe tbody tr th {\n",
              "        vertical-align: top;\n",
              "    }\n",
              "\n",
              "    .dataframe thead th {\n",
              "        text-align: right;\n",
              "    }\n",
              "</style>\n",
              "<table border=\"1\" class=\"dataframe\">\n",
              "  <thead>\n",
              "    <tr style=\"text-align: right;\">\n",
              "      <th></th>\n",
              "      <th>Ref ID</th>\n",
              "      <th>Reference</th>\n",
              "      <th>Propellant type</th>\n",
              "      <th>Test #</th>\n",
              "      <th>Mass (kg)</th>\n",
              "      <th>Measurement Distance (m)</th>\n",
              "      <th>Burn time (sec)</th>\n",
              "      <th>Peak flux (cal/cm^2/s)</th>\n",
              "      <th>Av. flux (cal/cm^2/s)</th>\n",
              "      <th>Notes</th>\n",
              "      <th>Drum diameter (cm)</th>\n",
              "      <th>Type</th>\n",
              "      <th>Unique ID</th>\n",
              "      <th>Safe Heat Flux (cal/cm2/sec)</th>\n",
              "      <th>Safe Distance (m)</th>\n",
              "      <th>Burn rate (kg/s)</th>\n",
              "    </tr>\n",
              "  </thead>\n",
              "  <tbody>\n",
              "    <tr>\n",
              "      <th>690</th>\n",
              "      <td>MSIAC 6</td>\n",
              "      <td>Paquet et al., \"Modeling Propellant Fires Radi...</td>\n",
              "      <td>DB1</td>\n",
              "      <td>C4</td>\n",
              "      <td>525.0</td>\n",
              "      <td>20.0</td>\n",
              "      <td>7.1</td>\n",
              "      <td>1.105804</td>\n",
              "      <td>0.552902</td>\n",
              "      <td>Ave heat flux is estimated from the peak heat ...</td>\n",
              "      <td>NaN</td>\n",
              "      <td>? Burn (Test Data)</td>\n",
              "      <td>RMSIAC 6TC4</td>\n",
              "      <td>0.235174</td>\n",
              "      <td>34.445076</td>\n",
              "      <td>73.943662</td>\n",
              "    </tr>\n",
              "    <tr>\n",
              "      <th>691</th>\n",
              "      <td>MSIAC 6</td>\n",
              "      <td>Paquet et al., \"Modeling Propellant Fires Radi...</td>\n",
              "      <td>DB1</td>\n",
              "      <td>C4</td>\n",
              "      <td>525.0</td>\n",
              "      <td>16.0</td>\n",
              "      <td>7.1</td>\n",
              "      <td>2.631956</td>\n",
              "      <td>1.315978</td>\n",
              "      <td>Ave heat flux is estimated from the peak heat ...</td>\n",
              "      <td>NaN</td>\n",
              "      <td>? Burn (Test Data)</td>\n",
              "      <td>RMSIAC 6TC4</td>\n",
              "      <td>0.235174</td>\n",
              "      <td>34.445076</td>\n",
              "      <td>73.943662</td>\n",
              "    </tr>\n",
              "    <tr>\n",
              "      <th>692</th>\n",
              "      <td>MSIAC 6</td>\n",
              "      <td>Paquet et al., \"Modeling Propellant Fires Radi...</td>\n",
              "      <td>DB1</td>\n",
              "      <td>C4</td>\n",
              "      <td>525.0</td>\n",
              "      <td>8.0</td>\n",
              "      <td>7.1</td>\n",
              "      <td>5.201815</td>\n",
              "      <td>2.600908</td>\n",
              "      <td>Ave heat flux is estimated from the peak heat ...</td>\n",
              "      <td>NaN</td>\n",
              "      <td>? Burn (Test Data)</td>\n",
              "      <td>RMSIAC 6TC4</td>\n",
              "      <td>0.235174</td>\n",
              "      <td>34.445076</td>\n",
              "      <td>73.943662</td>\n",
              "    </tr>\n",
              "  </tbody>\n",
              "</table>\n",
              "</div>\n",
              "      <button class=\"colab-df-convert\" onclick=\"convertToInteractive('df-65e77f8f-3bd8-4563-9bf3-dbbd0b848cc7')\"\n",
              "              title=\"Convert this dataframe to an interactive table.\"\n",
              "              style=\"display:none;\">\n",
              "        \n",
              "  <svg xmlns=\"http://www.w3.org/2000/svg\" height=\"24px\"viewBox=\"0 0 24 24\"\n",
              "       width=\"24px\">\n",
              "    <path d=\"M0 0h24v24H0V0z\" fill=\"none\"/>\n",
              "    <path d=\"M18.56 5.44l.94 2.06.94-2.06 2.06-.94-2.06-.94-.94-2.06-.94 2.06-2.06.94zm-11 1L8.5 8.5l.94-2.06 2.06-.94-2.06-.94L8.5 2.5l-.94 2.06-2.06.94zm10 10l.94 2.06.94-2.06 2.06-.94-2.06-.94-.94-2.06-.94 2.06-2.06.94z\"/><path d=\"M17.41 7.96l-1.37-1.37c-.4-.4-.92-.59-1.43-.59-.52 0-1.04.2-1.43.59L10.3 9.45l-7.72 7.72c-.78.78-.78 2.05 0 2.83L4 21.41c.39.39.9.59 1.41.59.51 0 1.02-.2 1.41-.59l7.78-7.78 2.81-2.81c.8-.78.8-2.07 0-2.86zM5.41 20L4 18.59l7.72-7.72 1.47 1.35L5.41 20z\"/>\n",
              "  </svg>\n",
              "      </button>\n",
              "      \n",
              "  <style>\n",
              "    .colab-df-container {\n",
              "      display:flex;\n",
              "      flex-wrap:wrap;\n",
              "      gap: 12px;\n",
              "    }\n",
              "\n",
              "    .colab-df-convert {\n",
              "      background-color: #E8F0FE;\n",
              "      border: none;\n",
              "      border-radius: 50%;\n",
              "      cursor: pointer;\n",
              "      display: none;\n",
              "      fill: #1967D2;\n",
              "      height: 32px;\n",
              "      padding: 0 0 0 0;\n",
              "      width: 32px;\n",
              "    }\n",
              "\n",
              "    .colab-df-convert:hover {\n",
              "      background-color: #E2EBFA;\n",
              "      box-shadow: 0px 1px 2px rgba(60, 64, 67, 0.3), 0px 1px 3px 1px rgba(60, 64, 67, 0.15);\n",
              "      fill: #174EA6;\n",
              "    }\n",
              "\n",
              "    [theme=dark] .colab-df-convert {\n",
              "      background-color: #3B4455;\n",
              "      fill: #D2E3FC;\n",
              "    }\n",
              "\n",
              "    [theme=dark] .colab-df-convert:hover {\n",
              "      background-color: #434B5C;\n",
              "      box-shadow: 0px 1px 3px 1px rgba(0, 0, 0, 0.15);\n",
              "      filter: drop-shadow(0px 1px 2px rgba(0, 0, 0, 0.3));\n",
              "      fill: #FFFFFF;\n",
              "    }\n",
              "  </style>\n",
              "\n",
              "      <script>\n",
              "        const buttonEl =\n",
              "          document.querySelector('#df-65e77f8f-3bd8-4563-9bf3-dbbd0b848cc7 button.colab-df-convert');\n",
              "        buttonEl.style.display =\n",
              "          google.colab.kernel.accessAllowed ? 'block' : 'none';\n",
              "\n",
              "        async function convertToInteractive(key) {\n",
              "          const element = document.querySelector('#df-65e77f8f-3bd8-4563-9bf3-dbbd0b848cc7');\n",
              "          const dataTable =\n",
              "            await google.colab.kernel.invokeFunction('convertToInteractive',\n",
              "                                                     [key], {});\n",
              "          if (!dataTable) return;\n",
              "\n",
              "          const docLinkHtml = 'Like what you see? Visit the ' +\n",
              "            '<a target=\"_blank\" href=https://colab.research.google.com/notebooks/data_table.ipynb>data table notebook</a>'\n",
              "            + ' to learn more about interactive tables.';\n",
              "          element.innerHTML = '';\n",
              "          dataTable['output_type'] = 'display_data';\n",
              "          await google.colab.output.renderOutput(dataTable, element);\n",
              "          const docLink = document.createElement('div');\n",
              "          docLink.innerHTML = docLinkHtml;\n",
              "          element.appendChild(docLink);\n",
              "        }\n",
              "      </script>\n",
              "    </div>\n",
              "  </div>\n",
              "  "
            ]
          },
          "metadata": {},
          "execution_count": 19
        }
      ]
    },
    {
      "cell_type": "code",
      "source": [
        "mlin = np.linspace(1,100000,num=500)\n",
        "ibd = [max(22.9,np.exp(1.4715+0.2429*np.log(each)+0.00384*(np.log(each))**2)) if each<43544 else np.exp(5.5938-0.5344*np.log(each)+0.04046*(np.log(each))**2) for each in mlin]\n",
        "ibd = pd.DataFrame({'masses (kg)':mlin,'ibd (m)':ibd})\n",
        "natoibd = pd.DataFrame({'NEQ (kg)':[1,\t5,\t10,\t50,\t100,\t453,\t500,\t800,\t1000,\t5000,\t10000,\t43544,\t500000,\t1000000],'ibd (m)':[60,\t60,\t60,\t60,\t60,\t60,\t60,\t60,\t64,\t109,\t137,\t225,\t507,\t640]})"
      ],
      "metadata": {
        "id": "TFkTdH7_EVHt"
      },
      "execution_count": 20,
      "outputs": []
    },
    {
      "cell_type": "markdown",
      "metadata": {
        "id": "gbSxweypa46X"
      },
      "source": [
        "## Add modeling results from COMSOL with Radiation in Participating Media\n",
        "COMSOL modeling was completed with a representative barrel of burning material at a given burn rate and temperature with radiative propagation from the hot gases."
      ]
    },
    {
      "cell_type": "code",
      "execution_count": 21,
      "metadata": {
        "id": "Fu3sc0XFa46X"
      },
      "outputs": [],
      "source": [
        "url='https://raw.githubusercontent.com/clint-bg/publicationdata/main/safeSeparation/COMSOLModeling.csv'\n",
        "dfm = pd.read_csv(url)\n",
        "dft = pd.concat([df,dfm])"
      ]
    },
    {
      "cell_type": "code",
      "source": [
        "fig, ax = plt.subplots(figsize=(12,8))\n",
        "p = sea.scatterplot(data=dft,x='Mass (kg)',y='Safe Distance (m)', style='Type', hue='Type',s=50,ax=ax);\n",
        "p = sea.lineplot(data=ibd,x='masses (kg)',y='ibd (m)',ax=ax)\n",
        "p = sea.lineplot(data=natoibd,x='NEQ (kg)',y='ibd (m)',ax=ax)\n",
        "p.set(xscale=\"log\"); p.set(xlim=(1,100000))\n",
        "p.set(yscale=\"log\"); p.set(ylim=(0.1,1000))\n",
        "plt.legend(loc='best', fontsize=12)\n",
        "plt.grid(linestyle = '--', linewidth = 0.5)\n",
        "plt.grid(visible=True,which='minor',linestyle = '--', linewidth = 0.25)\n",
        "ax.tick_params(axis='both', which='major', labelsize=12)\n",
        "ax.set_xlabel('Mass (kg)', fontsize=14)\n",
        "ax.set_ylabel('Heat Flux Safe Separation Distance (m)', fontsize=14)\n",
        "plt.savefig(\"SafeSepDists.png\",dpi=600)\n",
        "plt.show()"
      ],
      "metadata": {
        "colab": {
          "base_uri": "https://localhost:8080/",
          "height": 514
        },
        "id": "xEImClzET-5F",
        "outputId": "0c2a91a2-eeca-4fc9-b34b-70ae4306e5c2"
      },
      "execution_count": 22,
      "outputs": [
        {
          "output_type": "display_data",
          "data": {
            "text/plain": [
              "<Figure size 864x576 with 1 Axes>"
            ],
            "image/png": "[encoded data removed]"
          },
          "metadata": {
            "needs_background": "light"
          }
        }
      ]
    },
    {
      "cell_type": "markdown",
      "source": [
        "Note that there are many different ways that a safe distance could be estimated. The method used here is viewed by the authors as a conservative estimate. In previous plots, a modified version of the point source model with a 1/r dependence transitioning to a 1/r^2 dependence was used yielding slightly different results but with the same conclusion that the existing IBD line is effective in specifying a safe distance."
      ],
      "metadata": {
        "id": "0fXOV6rFZyMy"
      }
    },
    {
      "cell_type": "code",
      "source": [],
      "metadata": {
        "id": "v1_gwokkIOnr"
      },
      "execution_count": 23,
      "outputs": []
    }
  ],
  "metadata": {
    "deepnote_execution_queue": [],
    "kernelspec": {
      "display_name": "Python 3",
      "language": "python",
      "name": "python3"
    },
    "language_info": {
      "codemirror_mode": {
        "name": "ipython",
        "version": 3
      },
      "file_extension": ".py",
      "mimetype": "text/x-python",
      "name": "python",
      "nbconvert_exporter": "python",
      "pygments_lexer": "ipython3",
      "version": "3.8.5"
    },
    "colab": {
      "provenance": [],
      "collapsed_sections": [],
      "include_colab_link": true
    }
  },
  "nbformat": 4,
  "nbformat_minor": 0
}