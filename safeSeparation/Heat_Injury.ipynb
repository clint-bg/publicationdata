{
  "cells": [
    {
      "cell_type": "markdown",
      "metadata": {
        "id": "view-in-github",
        "colab_type": "text"
      },
      "source": [
        "<a href=\"https://colab.research.google.com/github/clint-bg/publicationdata/blob/main/safeSeparation/Heat_Injury.ipynb\" target=\"_parent\"><img src=\"https://colab.research.google.com/assets/colab-badge.svg\" alt=\"Open In Colab\"/></a>"
      ]
    },
    {
      "cell_type": "markdown",
      "id": "8f680a62",
      "metadata": {
        "id": "8f680a62"
      },
      "source": [
        "# Heat Injury"
      ]
    },
    {
      "cell_type": "markdown",
      "id": "e044efff",
      "metadata": {
        "id": "e044efff"
      },
      "source": [
        "Injury from exposure to radiative heat flux depends on the heat flux and the duration. Often the heat flux given off by the source is not a constant value, like from a burning collection of propellant. The heat flux is low than rises as more and more material is burning and then decreases. "
      ]
    },
    {
      "cell_type": "markdown",
      "id": "4fc88819",
      "metadata": {
        "id": "4fc88819"
      },
      "source": [
        "Below is a comparison of the heat injury (integral of the heat flux over time) for two differenct scenarios:\n",
        "- a normal or gaussian like profile of heat flux versus time\n",
        "- a non-normal profile"
      ]
    },
    {
      "cell_type": "code",
      "execution_count": 1,
      "id": "e01d2a4b",
      "metadata": {
        "id": "e01d2a4b"
      },
      "outputs": [],
      "source": [
        "# import needed packages\n",
        "import numpy as np\n",
        "import matplotlib.pyplot as plt\n",
        "from scipy.stats import norm\n",
        "import scipy.integrate as integrate"
      ]
    },
    {
      "cell_type": "markdown",
      "id": "f7739f78",
      "metadata": {
        "id": "f7739f78"
      },
      "source": [
        "## Normal profile of heat flux"
      ]
    },
    {
      "cell_type": "markdown",
      "id": "cacbcf3e",
      "metadata": {
        "id": "cacbcf3e"
      },
      "source": [
        "Below is the normal estimate of a heat flux event as a function of time with the total thermal damage estimated"
      ]
    },
    {
      "cell_type": "code",
      "execution_count": 2,
      "id": "479a0e39",
      "metadata": {
        "id": "479a0e39"
      },
      "outputs": [],
      "source": [
        "t = np.linspace(0,1.96*2,100)"
      ]
    },
    {
      "cell_type": "code",
      "execution_count": 3,
      "id": "8cb848ab",
      "metadata": {
        "id": "8cb848ab"
      },
      "outputs": [],
      "source": [
        "n = norm.pdf(t,1.96)*20 #a ficticious but plausible heat flux curve"
      ]
    },
    {
      "cell_type": "code",
      "execution_count": 4,
      "id": "9249e695",
      "metadata": {
        "id": "9249e695",
        "outputId": "7d53c41b-ba6d-4090-8226-cb9e0df8f653",
        "colab": {
          "base_uri": "https://localhost:8080/",
          "height": 279
        }
      },
      "outputs": [
        {
          "output_type": "display_data",
          "data": {
            "text/plain": [
              "<Figure size 432x288 with 1 Axes>"
            ],
            "image/png": "[encoded data removed]"
          },
          "metadata": {
            "needs_background": "light"
          }
        }
      ],
      "source": [
        "plt.plot(t,n)\n",
        "plt.xlabel(\"time, sec\"); plt.ylabel(\"heat flux, kW/m2\")\n",
        "plt.show()"
      ]
    },
    {
      "cell_type": "markdown",
      "id": "eb0ef910",
      "metadata": {
        "id": "eb0ef910"
      },
      "source": [
        "If the entire curve is integrated, that is a measure of the thermal damage. Such an approximation of the damage assumes that the damage scales linearly with heat flux. For example, if a person is exposed to 4 kW/m2 for 20 seconds, that damage is 80 kJ/m2, while a thermal heat flux 2 times that 4 kW/m2 value for the same 20 seconds yields a damage of 160 kJ/m2, a correspondingly linear outcome (double the heat flux and double the damage). However, it has been published that the thermal damage does not scale linearly with the heat flux. If the relationship to damage is thus non-linear, with, for example, a factor of an exponential of 1.2 then for a heat flux of 4 kW/m2 for 20 second the damage would be (20\\*4^1.2) 105 kJ/m2 and if the heat flux is double to 8 the damage would be (20\\*8^1.2) 242 kJ/mol. This is a non-linear relationship as when the heat flux is doubled, the damage increases by a factor greater than 2 (2.3 in this case). It is not known what that exponential multiplier would be for thermal damage but a value of 1.2 is considered conservative."
      ]
    },
    {
      "cell_type": "code",
      "execution_count": 5,
      "id": "16549d61",
      "metadata": {
        "id": "16549d61"
      },
      "outputs": [],
      "source": [
        "factor = 1.2"
      ]
    },
    {
      "cell_type": "code",
      "execution_count": 6,
      "id": "77eaad8e",
      "metadata": {
        "id": "77eaad8e",
        "outputId": "9e13c88d-bce2-49a3-ad84-af7b421791ea",
        "colab": {
          "base_uri": "https://localhost:8080/"
        }
      },
      "outputs": [
        {
          "output_type": "execute_result",
          "data": {
            "text/plain": [
              "26.779256051514018"
            ]
          },
          "metadata": {},
          "execution_count": 6
        }
      ],
      "source": [
        "#estimate of the total damage from the curve\n",
        "integrate.simpson(n**factor,t)"
      ]
    },
    {
      "cell_type": "markdown",
      "id": "cbadc4f2",
      "metadata": {
        "id": "cbadc4f2"
      },
      "source": [
        "The above value is the damage measure given we know heat flux as a function of time. If we only know the average and the maximum heat fluxes one way is to use the average value and correspondingly estimate the damage:"
      ]
    },
    {
      "cell_type": "code",
      "execution_count": 7,
      "id": "5afe4c66",
      "metadata": {
        "id": "5afe4c66",
        "outputId": "2cadc774-31bc-40b2-8d42-1e0919c4a0e7",
        "colab": {
          "base_uri": "https://localhost:8080/"
        }
      },
      "outputs": [
        {
          "output_type": "execute_result",
          "data": {
            "text/plain": [
              "25.81446659226213"
            ]
          },
          "metadata": {},
          "execution_count": 7
        }
      ],
      "source": [
        "#using the average value of the heat flux burn to estimate the damage with the entire duration\n",
        "max(t)*n.mean()**factor"
      ]
    },
    {
      "cell_type": "markdown",
      "id": "0a3eccda",
      "metadata": {
        "id": "0a3eccda"
      },
      "source": [
        "That 25.8 value is close to the 26.8 damage \"true\" value"
      ]
    },
    {
      "cell_type": "markdown",
      "id": "8c34b8fe",
      "metadata": {
        "id": "8c34b8fe"
      },
      "source": [
        "If on the other hand, the peak value is used with half the duration of the burn, the damage estimate is"
      ]
    },
    {
      "cell_type": "code",
      "execution_count": 8,
      "id": "3214f935",
      "metadata": {
        "id": "3214f935",
        "outputId": "e77cadf4-de53-41d6-cc82-d0166c47ea2e",
        "colab": {
          "base_uri": "https://localhost:8080/"
        }
      },
      "outputs": [
        {
          "output_type": "execute_result",
          "data": {
            "text/plain": [
              "23.68547013494428"
            ]
          },
          "metadata": {},
          "execution_count": 8
        }
      ],
      "source": [
        "max(t)/2*n.max()**factor #max and half the time"
      ]
    },
    {
      "cell_type": "markdown",
      "id": "cc49adce",
      "metadata": {
        "id": "cc49adce"
      },
      "source": [
        "That 23.7 value is significantly less than the 26.8 \"true\" value"
      ]
    },
    {
      "cell_type": "markdown",
      "id": "f82cbffb",
      "metadata": {
        "id": "f82cbffb"
      },
      "source": [
        "Conclusion: the average value and full duration is a more accurate (and conservative) estimate than the peak value and half duration."
      ]
    },
    {
      "cell_type": "code",
      "source": [
        "dT = n.mean()*max(t)/n.max()"
      ],
      "metadata": {
        "id": "RkiP3giQxRFl"
      },
      "id": "RkiP3giQxRFl",
      "execution_count": 9,
      "outputs": []
    },
    {
      "cell_type": "code",
      "source": [
        "dT/max(t)"
      ],
      "metadata": {
        "id": "pSpx_51qxYVI",
        "outputId": "63822dcc-f2fa-4002-ec75-1f8711954161",
        "colab": {
          "base_uri": "https://localhost:8080/"
        }
      },
      "id": "pSpx_51qxYVI",
      "execution_count": 10,
      "outputs": [
        {
          "output_type": "execute_result",
          "data": {
            "text/plain": [
              "0.6029657243937556"
            ]
          },
          "metadata": {},
          "execution_count": 10
        }
      ]
    },
    {
      "cell_type": "markdown",
      "id": "f241d03e",
      "metadata": {
        "id": "f241d03e"
      },
      "source": [
        "## Non-normal profile of heat flux: Example 1"
      ]
    },
    {
      "cell_type": "markdown",
      "id": "af1a08d1",
      "metadata": {
        "id": "af1a08d1"
      },
      "source": [
        "A non-normal profile of the heat flux during a burn from an energetic material is a more likely scenario. In such a non-normal profile, the burn may be proceeding in an average way and then ocasionally gives spurts or high heat fluxes. The below profile is fictional but also plausible."
      ]
    },
    {
      "cell_type": "code",
      "execution_count": 11,
      "id": "e238afd8",
      "metadata": {
        "id": "e238afd8"
      },
      "outputs": [],
      "source": [
        "nn = np.concatenate((n[0:int(len(n)/2)],np.ones(500)*n.max(),n[int(len(n)/2):]))\n",
        "#add a spurt\n",
        "nn = nn + np.concatenate((n*0.5,np.zeros(500)))"
      ]
    },
    {
      "cell_type": "code",
      "execution_count": 12,
      "id": "ec9bad71",
      "metadata": {
        "id": "ec9bad71"
      },
      "outputs": [],
      "source": [
        "tt = np.linspace(0,1.96*20,len(nn))"
      ]
    },
    {
      "cell_type": "code",
      "execution_count": 13,
      "id": "bf6eca7b",
      "metadata": {
        "id": "bf6eca7b",
        "outputId": "267eeaf6-c4c4-4e94-a25a-05ef3b844017",
        "colab": {
          "base_uri": "https://localhost:8080/",
          "height": 279
        }
      },
      "outputs": [
        {
          "output_type": "display_data",
          "data": {
            "text/plain": [
              "<Figure size 432x288 with 1 Axes>"
            ],
            "image/png": "[encoded data removed]"
          },
          "metadata": {
            "needs_background": "light"
          }
        }
      ],
      "source": [
        "plt.plot(tt,nn)\n",
        "plt.xlabel(\"time, sec\"); plt.ylabel(\"heat flux, kW/m2\")\n",
        "plt.show()"
      ]
    },
    {
      "cell_type": "markdown",
      "id": "098286a8",
      "metadata": {
        "id": "098286a8"
      },
      "source": [
        "Completing the same steps as above for the normal curve, we get the following results:"
      ]
    },
    {
      "cell_type": "code",
      "execution_count": 14,
      "id": "929a865b",
      "metadata": {
        "id": "929a865b",
        "outputId": "dc0edbd0-363a-42f9-86cc-eaaed922f0bd",
        "colab": {
          "base_uri": "https://localhost:8080/"
        }
      },
      "outputs": [
        {
          "output_type": "execute_result",
          "data": {
            "text/plain": [
              "468.3304325267019"
            ]
          },
          "metadata": {},
          "execution_count": 14
        }
      ],
      "source": [
        "#actual thermal damage using the heat flux\n",
        "integrate.simpson(nn**factor,tt)"
      ]
    },
    {
      "cell_type": "code",
      "execution_count": 15,
      "id": "dd2c635d",
      "metadata": {
        "id": "dd2c635d",
        "outputId": "fdccf7e9-9c46-4db1-c2af-2ff2aa5d853d",
        "colab": {
          "base_uri": "https://localhost:8080/"
        }
      },
      "outputs": [
        {
          "output_type": "execute_result",
          "data": {
            "text/plain": [
              "464.6711604414533"
            ]
          },
          "metadata": {},
          "execution_count": 15
        }
      ],
      "source": [
        "#using the average value of the heat flux burn to estimate the damage with the entire duration\n",
        "max(tt)*nn.mean()**factor"
      ]
    },
    {
      "cell_type": "code",
      "execution_count": 16,
      "id": "8a7c2d8a",
      "metadata": {
        "id": "8a7c2d8a",
        "outputId": "bd8504af-fe0c-4985-b375-de18c9cb79c6",
        "colab": {
          "base_uri": "https://localhost:8080/"
        }
      },
      "outputs": [
        {
          "output_type": "execute_result",
          "data": {
            "text/plain": [
              "385.29335623339824"
            ]
          },
          "metadata": {},
          "execution_count": 16
        }
      ],
      "source": [
        "max(tt)/2*nn.max()**factor #max and half the time"
      ]
    },
    {
      "cell_type": "markdown",
      "id": "ff437d66",
      "metadata": {
        "id": "ff437d66"
      },
      "source": [
        "Consistent with the previous result with a normal curve, this instance of a non-normal curve also yields that the average value for the total duration is more accurate (and conservative) than is the max for half the time."
      ]
    },
    {
      "cell_type": "markdown",
      "id": "41f0cbfa",
      "metadata": {
        "id": "41f0cbfa"
      },
      "source": [
        "Conclusion: again, the average value and full duration is a more conservative estimate than the peak value and half duration."
      ]
    },
    {
      "cell_type": "code",
      "execution_count": 17,
      "id": "3dfde082",
      "metadata": {
        "id": "3dfde082"
      },
      "outputs": [],
      "source": [
        "dTnn = nn.mean()*max(tt)/nn.max()"
      ]
    },
    {
      "cell_type": "code",
      "source": [
        "dTnn/max(tt)"
      ],
      "metadata": {
        "id": "4-ZJMKn9xiYa",
        "outputId": "4ed233d7-636e-43b4-9e44-cbb80c7506fe",
        "colab": {
          "base_uri": "https://localhost:8080/"
        }
      },
      "id": "4-ZJMKn9xiYa",
      "execution_count": 18,
      "outputs": [
        {
          "output_type": "execute_result",
          "data": {
            "text/plain": [
              "0.6560498429545147"
            ]
          },
          "metadata": {},
          "execution_count": 18
        }
      ]
    },
    {
      "cell_type": "markdown",
      "metadata": {
        "id": "fo8nbLcN1ius"
      },
      "source": [
        "## Non-normal profile of heat flux: Example 2"
      ],
      "id": "fo8nbLcN1ius"
    },
    {
      "cell_type": "markdown",
      "metadata": {
        "id": "Ll4suSWn1ius"
      },
      "source": [
        "A second non-normal profile of the heat flux during a burn from an energetic material is also presented. In this case the max heat flux is significantly higher than a baseline heat flux. The below profile is fictional but also plausible."
      ],
      "id": "Ll4suSWn1ius"
    },
    {
      "cell_type": "code",
      "execution_count": 19,
      "metadata": {
        "id": "UZM8X-f61iut"
      },
      "outputs": [],
      "source": [
        "nn2 = np.concatenate((n[0:int(len(n)/2)],np.ones(500)*n.max(),n[int(len(n)/2):]))\n",
        "#add a spurt\n",
        "nn2 = nn2 + np.concatenate((n*0.5*3,np.zeros(500)))"
      ],
      "id": "UZM8X-f61iut"
    },
    {
      "cell_type": "code",
      "execution_count": 20,
      "metadata": {
        "id": "gLHbai6e1iut"
      },
      "outputs": [],
      "source": [
        "tt2 = np.linspace(0,1.96*20,len(nn2))"
      ],
      "id": "gLHbai6e1iut"
    },
    {
      "cell_type": "code",
      "execution_count": 21,
      "metadata": {
        "outputId": "0db1aa57-bddd-4450-ed3e-490b27cd3640",
        "colab": {
          "base_uri": "https://localhost:8080/",
          "height": 279
        },
        "id": "rWxgt1LQ1iut"
      },
      "outputs": [
        {
          "output_type": "display_data",
          "data": {
            "text/plain": [
              "<Figure size 432x288 with 1 Axes>"
            ],
            "image/png": "[encoded data removed]"
          },
          "metadata": {
            "needs_background": "light"
          }
        }
      ],
      "source": [
        "plt.plot(tt2,nn2)\n",
        "plt.xlabel(\"time, sec\"); plt.ylabel(\"heat flux, kW/m2\")\n",
        "plt.show()"
      ],
      "id": "rWxgt1LQ1iut"
    },
    {
      "cell_type": "markdown",
      "metadata": {
        "id": "snQ6LQ9N1iut"
      },
      "source": [
        "Completing the same steps as above for the normal curve, we get the following results:"
      ],
      "id": "snQ6LQ9N1iut"
    },
    {
      "cell_type": "code",
      "execution_count": 22,
      "metadata": {
        "outputId": "b98f8e07-82e0-478f-fcc7-4980916feed2",
        "colab": {
          "base_uri": "https://localhost:8080/"
        },
        "id": "nlAE4Ztv1iut"
      },
      "outputs": [
        {
          "output_type": "execute_result",
          "data": {
            "text/plain": [
              "530.647112329645"
            ]
          },
          "metadata": {},
          "execution_count": 22
        }
      ],
      "source": [
        "#actual thermal damage using the heat flux\n",
        "integrate.simpson(nn2**factor,tt2)"
      ],
      "id": "nlAE4Ztv1iut"
    },
    {
      "cell_type": "code",
      "execution_count": 23,
      "metadata": {
        "outputId": "87021451-4fbb-4f90-b359-90098a5f6583",
        "colab": {
          "base_uri": "https://localhost:8080/"
        },
        "id": "owigfj-j1iuu"
      },
      "outputs": [
        {
          "output_type": "execute_result",
          "data": {
            "text/plain": [
              "522.1805055705045"
            ]
          },
          "metadata": {},
          "execution_count": 23
        }
      ],
      "source": [
        "#using the average value of the heat flux burn to estimate the damage with the entire duration\n",
        "max(tt2)*nn2.mean()**factor"
      ],
      "id": "owigfj-j1iuu"
    },
    {
      "cell_type": "code",
      "execution_count": 24,
      "metadata": {
        "outputId": "b890cacd-f12f-4a39-b6b6-66ac01c3e3cf",
        "colab": {
          "base_uri": "https://localhost:8080/"
        },
        "id": "28g0NWFB1iuu"
      },
      "outputs": [
        {
          "output_type": "execute_result",
          "data": {
            "text/plain": [
              "711.2299227354761"
            ]
          },
          "metadata": {},
          "execution_count": 24
        }
      ],
      "source": [
        "max(tt2)/2*nn2.max()**factor #max and half the time"
      ],
      "id": "28g0NWFB1iuu"
    },
    {
      "cell_type": "markdown",
      "source": [
        "Note that in this case, using the max value of the curve and half the burn time to estimate the thermal damage results in a more conservative value but it is significantly over estimates teh actual thermal damage."
      ],
      "metadata": {
        "id": "suiftpQR2SWn"
      },
      "id": "suiftpQR2SWn"
    },
    {
      "cell_type": "code",
      "source": [
        "dT2 = nn2.mean()*max(tt2)/nn2.max()"
      ],
      "metadata": {
        "id": "kz6e9zig18FA"
      },
      "id": "kz6e9zig18FA",
      "execution_count": 25,
      "outputs": []
    },
    {
      "cell_type": "code",
      "source": [
        "dT2/max(tt2)"
      ],
      "metadata": {
        "colab": {
          "base_uri": "https://localhost:8080/"
        },
        "id": "UAqeGOqX2s4r",
        "outputId": "f56a4dc6-9c03-4521-ad0a-68c884f51c26"
      },
      "id": "UAqeGOqX2s4r",
      "execution_count": 26,
      "outputs": [
        {
          "output_type": "execute_result",
          "data": {
            "text/plain": [
              "0.43382762073229264"
            ]
          },
          "metadata": {},
          "execution_count": 26
        }
      ]
    },
    {
      "cell_type": "code",
      "source": [],
      "metadata": {
        "id": "IDnXrtUl2ur6"
      },
      "id": "IDnXrtUl2ur6",
      "execution_count": 26,
      "outputs": []
    }
  ],
  "metadata": {
    "kernelspec": {
      "display_name": "Python 3 (ipykernel)",
      "language": "python",
      "name": "python3"
    },
    "language_info": {
      "codemirror_mode": {
        "name": "ipython",
        "version": 3
      },
      "file_extension": ".py",
      "mimetype": "text/x-python",
      "name": "python",
      "nbconvert_exporter": "python",
      "pygments_lexer": "ipython3",
      "version": "3.9.12"
    },
    "colab": {
      "provenance": [],
      "include_colab_link": true
    }
  },
  "nbformat": 4,
  "nbformat_minor": 5
}