{
  "cells": [
    {
      "cell_type": "markdown",
      "metadata": {
        "id": "view-in-github",
        "colab_type": "text"
      },
      "source": [
        "<a href=\"https://colab.research.google.com/github/clint-bg/publicationdata/blob/main/safeSeparation/Heat_Injury.ipynb\" target=\"_parent\"><img src=\"https://colab.research.google.com/assets/colab-badge.svg\" alt=\"Open In Colab\"/></a>"
      ]
    },
    {
      "cell_type": "markdown",
      "id": "8f680a62",
      "metadata": {
        "id": "8f680a62"
      },
      "source": [
        "# Heat Injury"
      ]
    },
    {
      "cell_type": "markdown",
      "id": "e044efff",
      "metadata": {
        "id": "e044efff"
      },
      "source": [
        "Injury from exposure to radiative heat flux depends on the heat flux and the duration. Often the heat flux given off by the source is not a constant value, like from a burning collection of propellant. The heat flux is low than rises as more and more material is burning and then decreases. "
      ]
    },
    {
      "cell_type": "markdown",
      "id": "4fc88819",
      "metadata": {
        "id": "4fc88819"
      },
      "source": [
        "Below is a comparison of the heat injury (integral of the heat flux over time) for two differenct scenarios:\n",
        "- a normal or gaussian like profile of heat flux versus time\n",
        "- a non-normal profile"
      ]
    },
    {
      "cell_type": "code",
      "execution_count": 1,
      "id": "e01d2a4b",
      "metadata": {
        "id": "e01d2a4b"
      },
      "outputs": [],
      "source": [
        "# import needed packages\n",
        "import numpy as np\n",
        "import matplotlib.pyplot as plt\n",
        "from scipy.stats import norm\n",
        "import scipy.integrate as integrate"
      ]
    },
    {
      "cell_type": "markdown",
      "id": "f7739f78",
      "metadata": {
        "id": "f7739f78"
      },
      "source": [
        "## Normal profile of heat flux"
      ]
    },
    {
      "cell_type": "markdown",
      "id": "cacbcf3e",
      "metadata": {
        "id": "cacbcf3e"
      },
      "source": [
        "Below is the normal estimate of a heat flux event as a function of time with the total thermal damage estimated"
      ]
    },
    {
      "cell_type": "code",
      "execution_count": 2,
      "id": "479a0e39",
      "metadata": {
        "id": "479a0e39"
      },
      "outputs": [],
      "source": [
        "t = np.linspace(0,1.96*2,100)"
      ]
    },
    {
      "cell_type": "code",
      "execution_count": 3,
      "id": "8cb848ab",
      "metadata": {
        "id": "8cb848ab"
      },
      "outputs": [],
      "source": [
        "n = norm.pdf(t,1.96)*20 #a ficticious but plausible heat flux curve"
      ]
    },
    {
      "cell_type": "code",
      "execution_count": 4,
      "id": "9249e695",
      "metadata": {
        "id": "9249e695",
        "outputId": "c79ef3ab-d53b-45e9-d7f6-15f2dce13e14",
        "colab": {
          "base_uri": "https://localhost:8080/",
          "height": 279
        }
      },
      "outputs": [
        {
          "output_type": "display_data",
          "data": {
            "text/plain": [
              "<Figure size 432x288 with 1 Axes>"
            ],
            "image/png": "[encoded data removed]"
          },
          "metadata": {
            "needs_background": "light"
          }
        }
      ],
      "source": [
        "plt.plot(t,n)\n",
        "plt.xlabel(\"time, sec\"); plt.ylabel(\"heat flux, kW/m2\")\n",
        "plt.show()"
      ]
    },
    {
      "cell_type": "markdown",
      "id": "eb0ef910",
      "metadata": {
        "id": "eb0ef910"
      },
      "source": [
        "If the entire curve is integrated, that is a measure of the thermal damage. Such an approximation of the damage assumes that the damage scales linearly with heat flux. For example, if a person is exposed to 4 kW/m2 for 20 seconds, that damage is 80 kJ/m2, while a thermal heat flux 2 times that 4 kW/m2 value for the same 20 seconds yields a damage of 160 kJ/m2, a correspondingly linear outcome (double the heat flux and double the damage). However, it has been published that the thermal damage does not scale linearly with the heat flux. If the relationship to damage is thus non-linear, with, for example, a factor of an exponential of 1.2 then for a heat flux of 4 kW/m2 for 20 second the damage would be (20\\*4^1.2) 105 kJ/m2 and if the heat flux is double to 8 the damage would be (20\\*8^1.2) 242 kJ/mol. This is a non-linear relationship as when the heat flux is doubled, the damage increases by a factor greater than 2 (2.3 in this case). It is not known what that exponential multiplier would be for thermal damage but a value of 1.2 is considered conservative."
      ]
    },
    {
      "cell_type": "code",
      "execution_count": 5,
      "id": "16549d61",
      "metadata": {
        "id": "16549d61"
      },
      "outputs": [],
      "source": [
        "factor = 1.2"
      ]
    },
    {
      "cell_type": "code",
      "execution_count": 6,
      "id": "77eaad8e",
      "metadata": {
        "id": "77eaad8e",
        "outputId": "effc37c1-988f-4ee7-991a-0649ed6bbf6c",
        "colab": {
          "base_uri": "https://localhost:8080/"
        }
      },
      "outputs": [
        {
          "output_type": "execute_result",
          "data": {
            "text/plain": [
              "26.779256051514018"
            ]
          },
          "metadata": {},
          "execution_count": 6
        }
      ],
      "source": [
        "#estimate of the total damage from the curve\n",
        "integrate.simpson(n**factor,t)"
      ]
    },
    {
      "cell_type": "markdown",
      "id": "cbadc4f2",
      "metadata": {
        "id": "cbadc4f2"
      },
      "source": [
        "The above value is the damage measure given we know heat flux as a function of time. If we only know the average and the maximum heat fluxes one way is to use the average value and correspondingly estimate the damage:"
      ]
    },
    {
      "cell_type": "code",
      "execution_count": 7,
      "id": "5afe4c66",
      "metadata": {
        "id": "5afe4c66",
        "outputId": "1e4c2264-3147-493f-8e5e-f48a153fa43d",
        "colab": {
          "base_uri": "https://localhost:8080/"
        }
      },
      "outputs": [
        {
          "output_type": "execute_result",
          "data": {
            "text/plain": [
              "25.81446659226213"
            ]
          },
          "metadata": {},
          "execution_count": 7
        }
      ],
      "source": [
        "#using the average value of the heat flux burn to estimate the damage with the entire duration\n",
        "max(t)*n.mean()**factor"
      ]
    },
    {
      "cell_type": "markdown",
      "id": "0a3eccda",
      "metadata": {
        "id": "0a3eccda"
      },
      "source": [
        "That 25.8 value is close to the 26.8 damage \"true\" value"
      ]
    },
    {
      "cell_type": "markdown",
      "id": "8c34b8fe",
      "metadata": {
        "id": "8c34b8fe"
      },
      "source": [
        "If on the other hand, the peak value is used with half the duration of the burn, the damage estimate is"
      ]
    },
    {
      "cell_type": "code",
      "execution_count": 8,
      "id": "3214f935",
      "metadata": {
        "id": "3214f935",
        "outputId": "81ff0b2a-fb40-49dc-c60d-3684b87a0ac2",
        "colab": {
          "base_uri": "https://localhost:8080/"
        }
      },
      "outputs": [
        {
          "output_type": "execute_result",
          "data": {
            "text/plain": [
              "23.68547013494428"
            ]
          },
          "metadata": {},
          "execution_count": 8
        }
      ],
      "source": [
        "max(t)/2*n.max()**factor #max and half the time"
      ]
    },
    {
      "cell_type": "markdown",
      "id": "cc49adce",
      "metadata": {
        "id": "cc49adce"
      },
      "source": [
        "That 23.7 value is significantly less than the 26.8 \"true\" value"
      ]
    },
    {
      "cell_type": "markdown",
      "id": "f82cbffb",
      "metadata": {
        "id": "f82cbffb"
      },
      "source": [
        "Conclusion: the average value and full duration is a more accurate (and conservative) estimate than the peak value and half duration."
      ]
    },
    {
      "cell_type": "code",
      "source": [
        "dT = n.mean()*max(t)/n.max()"
      ],
      "metadata": {
        "id": "RkiP3giQxRFl"
      },
      "id": "RkiP3giQxRFl",
      "execution_count": 9,
      "outputs": []
    },
    {
      "cell_type": "code",
      "source": [
        "dT/max(t)"
      ],
      "metadata": {
        "id": "pSpx_51qxYVI",
        "outputId": "f47e1ba1-c416-4f68-f34a-9008b0acbcb3",
        "colab": {
          "base_uri": "https://localhost:8080/"
        }
      },
      "id": "pSpx_51qxYVI",
      "execution_count": 10,
      "outputs": [
        {
          "output_type": "execute_result",
          "data": {
            "text/plain": [
              "0.6029657243937556"
            ]
          },
          "metadata": {},
          "execution_count": 10
        }
      ]
    },
    {
      "cell_type": "markdown",
      "id": "f241d03e",
      "metadata": {
        "id": "f241d03e"
      },
      "source": [
        "## Non-normal profile of heat flux: Example 1"
      ]
    },
    {
      "cell_type": "markdown",
      "id": "af1a08d1",
      "metadata": {
        "id": "af1a08d1"
      },
      "source": [
        "A non-normal profile of the heat flux during a burn from an energetic material is a more likely scenario. In such a non-normal profile, the burn may be proceeding in an average way and then ocasionally gives spurts or high heat fluxes. The below profile is fictional but also plausible."
      ]
    },
    {
      "cell_type": "code",
      "execution_count": 11,
      "id": "e238afd8",
      "metadata": {
        "id": "e238afd8"
      },
      "outputs": [],
      "source": [
        "nn = np.concatenate((n[0:int(len(n)/2)],np.ones(500)*n.max(),n[int(len(n)/2):]))\n",
        "#add a spurt\n",
        "nn = nn + np.concatenate((n*0.5,np.zeros(500)))"
      ]
    },
    {
      "cell_type": "code",
      "execution_count": 12,
      "id": "ec9bad71",
      "metadata": {
        "id": "ec9bad71"
      },
      "outputs": [],
      "source": [
        "tt = np.linspace(0,1.96*20,len(nn))"
      ]
    },
    {
      "cell_type": "code",
      "execution_count": 13,
      "id": "bf6eca7b",
      "metadata": {
        "id": "bf6eca7b",
        "outputId": "99edb15e-1a7a-48b7-d23e-bde5d669588a",
        "colab": {
          "base_uri": "https://localhost:8080/",
          "height": 279
        }
      },
      "outputs": [
        {
          "output_type": "display_data",
          "data": {
            "text/plain": [
              "<Figure size 432x288 with 1 Axes>"
            ],
            "image/png": "[encoded data removed]"
          },
          "metadata": {
            "needs_background": "light"
          }
        }
      ],
      "source": [
        "plt.plot(tt,nn)\n",
        "plt.xlabel(\"time, sec\"); plt.ylabel(\"heat flux, kW/m2\")\n",
        "plt.show()"
      ]
    },
    {
      "cell_type": "markdown",
      "id": "098286a8",
      "metadata": {
        "id": "098286a8"
      },
      "source": [
        "Completing the same steps as above for the normal curve, we get the following results:"
      ]
    },
    {
      "cell_type": "code",
      "execution_count": 14,
      "id": "929a865b",
      "metadata": {
        "id": "929a865b",
        "outputId": "4ad81ac0-4f18-48df-c109-397be57b9ac6",
        "colab": {
          "base_uri": "https://localhost:8080/"
        }
      },
      "outputs": [
        {
          "output_type": "execute_result",
          "data": {
            "text/plain": [
              "468.3304325267019"
            ]
          },
          "metadata": {},
          "execution_count": 14
        }
      ],
      "source": [
        "#actual thermal damage using the heat flux\n",
        "integrate.simpson(nn**factor,tt)"
      ]
    },
    {
      "cell_type": "code",
      "execution_count": 15,
      "id": "dd2c635d",
      "metadata": {
        "id": "dd2c635d",
        "outputId": "e86c10b4-4bed-4582-b930-4f7cb99c7e3a",
        "colab": {
          "base_uri": "https://localhost:8080/"
        }
      },
      "outputs": [
        {
          "output_type": "execute_result",
          "data": {
            "text/plain": [
              "464.6711604414533"
            ]
          },
          "metadata": {},
          "execution_count": 15
        }
      ],
      "source": [
        "#using the average value of the heat flux burn to estimate the damage with the entire duration\n",
        "max(tt)*nn.mean()**factor"
      ]
    },
    {
      "cell_type": "code",
      "execution_count": 16,
      "id": "8a7c2d8a",
      "metadata": {
        "id": "8a7c2d8a",
        "outputId": "01c71eb3-f3d7-4c45-c886-a2bb57ab426d",
        "colab": {
          "base_uri": "https://localhost:8080/"
        }
      },
      "outputs": [
        {
          "output_type": "execute_result",
          "data": {
            "text/plain": [
              "385.29335623339824"
            ]
          },
          "metadata": {},
          "execution_count": 16
        }
      ],
      "source": [
        "max(tt)/2*nn.max()**factor #max and half the time"
      ]
    },
    {
      "cell_type": "markdown",
      "id": "ff437d66",
      "metadata": {
        "id": "ff437d66"
      },
      "source": [
        "Consistent with the previous result with a normal curve, this instance of a non-normal curve also yields that the average value for the total duration is more accurate (and conservative) than is the max for half the time."
      ]
    },
    {
      "cell_type": "markdown",
      "id": "41f0cbfa",
      "metadata": {
        "id": "41f0cbfa"
      },
      "source": [
        "Conclusion: again, the average value and full duration is a more conservative estimate than the peak value and half duration."
      ]
    },
    {
      "cell_type": "code",
      "execution_count": 17,
      "id": "3dfde082",
      "metadata": {
        "id": "3dfde082"
      },
      "outputs": [],
      "source": [
        "dTnn = nn.mean()*max(tt)/nn.max()"
      ]
    },
    {
      "cell_type": "code",
      "source": [
        "dTnn/max(tt)"
      ],
      "metadata": {
        "id": "4-ZJMKn9xiYa",
        "outputId": "a29dd76a-ed21-48f7-8c0f-91a3c29f0fe5",
        "colab": {
          "base_uri": "https://localhost:8080/"
        }
      },
      "id": "4-ZJMKn9xiYa",
      "execution_count": 18,
      "outputs": [
        {
          "output_type": "execute_result",
          "data": {
            "text/plain": [
              "0.6560498429545147"
            ]
          },
          "metadata": {},
          "execution_count": 18
        }
      ]
    },
    {
      "cell_type": "markdown",
      "metadata": {
        "id": "fo8nbLcN1ius"
      },
      "source": [
        "## Non-normal profile of heat flux: Example 2"
      ],
      "id": "fo8nbLcN1ius"
    },
    {
      "cell_type": "markdown",
      "metadata": {
        "id": "Ll4suSWn1ius"
      },
      "source": [
        "A second non-normal profile of the heat flux during a burn from an energetic material is also presented. In this case the max heat flux is significantly higher than a baseline heat flux. The below profile is fictional but also plausible."
      ],
      "id": "Ll4suSWn1ius"
    },
    {
      "cell_type": "code",
      "execution_count": 19,
      "metadata": {
        "id": "UZM8X-f61iut"
      },
      "outputs": [],
      "source": [
        "nn2 = np.concatenate((n[0:int(len(n)/2)],np.ones(500)*n.max(),n[int(len(n)/2):]))\n",
        "#add a spurt\n",
        "nn2 = nn2 + np.concatenate((n*0.5*3,np.zeros(500)))"
      ],
      "id": "UZM8X-f61iut"
    },
    {
      "cell_type": "code",
      "execution_count": 20,
      "metadata": {
        "id": "gLHbai6e1iut"
      },
      "outputs": [],
      "source": [
        "tt2 = np.linspace(0,1.96*20,len(nn2))"
      ],
      "id": "gLHbai6e1iut"
    },
    {
      "cell_type": "code",
      "execution_count": 21,
      "metadata": {
        "outputId": "db7133e3-69e5-472c-c714-8baed0bff1b5",
        "colab": {
          "base_uri": "https://localhost:8080/",
          "height": 279
        },
        "id": "rWxgt1LQ1iut"
      },
      "outputs": [
        {
          "output_type": "display_data",
          "data": {
            "text/plain": [
              "<Figure size 432x288 with 1 Axes>"
            ],
            "image/png": "[encoded data removed]"
          },
          "metadata": {
            "needs_background": "light"
          }
        }
      ],
      "source": [
        "plt.plot(tt2,nn2)\n",
        "plt.xlabel(\"time, sec\"); plt.ylabel(\"heat flux, kW/m2\")\n",
        "plt.show()"
      ],
      "id": "rWxgt1LQ1iut"
    },
    {
      "cell_type": "markdown",
      "metadata": {
        "id": "snQ6LQ9N1iut"
      },
      "source": [
        "Completing the same steps as above for the normal curve, we get the following results:"
      ],
      "id": "snQ6LQ9N1iut"
    },
    {
      "cell_type": "code",
      "execution_count": 22,
      "metadata": {
        "outputId": "e47d2c39-219c-4b83-8c94-0f9a79ea1e9e",
        "colab": {
          "base_uri": "https://localhost:8080/"
        },
        "id": "nlAE4Ztv1iut"
      },
      "outputs": [
        {
          "output_type": "execute_result",
          "data": {
            "text/plain": [
              "530.647112329645"
            ]
          },
          "metadata": {},
          "execution_count": 22
        }
      ],
      "source": [
        "#actual thermal damage using the heat flux\n",
        "integrate.simpson(nn2**factor,tt2)"
      ],
      "id": "nlAE4Ztv1iut"
    },
    {
      "cell_type": "code",
      "execution_count": 23,
      "metadata": {
        "outputId": "9ba027de-31a6-400b-c69f-eab4da0be9b7",
        "colab": {
          "base_uri": "https://localhost:8080/"
        },
        "id": "owigfj-j1iuu"
      },
      "outputs": [
        {
          "output_type": "execute_result",
          "data": {
            "text/plain": [
              "522.1805055705045"
            ]
          },
          "metadata": {},
          "execution_count": 23
        }
      ],
      "source": [
        "#using the average value of the heat flux burn to estimate the damage with the entire duration\n",
        "max(tt2)*nn2.mean()**factor"
      ],
      "id": "owigfj-j1iuu"
    },
    {
      "cell_type": "code",
      "execution_count": 24,
      "metadata": {
        "outputId": "f0c35a24-bd83-44c9-aae3-54bf3139056c",
        "colab": {
          "base_uri": "https://localhost:8080/"
        },
        "id": "28g0NWFB1iuu"
      },
      "outputs": [
        {
          "output_type": "execute_result",
          "data": {
            "text/plain": [
              "711.2299227354761"
            ]
          },
          "metadata": {},
          "execution_count": 24
        }
      ],
      "source": [
        "max(tt2)/2*nn2.max()**factor #max and half the time"
      ],
      "id": "28g0NWFB1iuu"
    },
    {
      "cell_type": "markdown",
      "source": [
        "Note that in this case, using the max value of the curve and half the burn time to estimate the thermal damage results in a more conservative value but it is significantly over estimates teh actual thermal damage."
      ],
      "metadata": {
        "id": "suiftpQR2SWn"
      },
      "id": "suiftpQR2SWn"
    },
    {
      "cell_type": "code",
      "source": [
        "dT2 = nn2.mean()*max(tt2)/nn2.max()"
      ],
      "metadata": {
        "id": "kz6e9zig18FA"
      },
      "id": "kz6e9zig18FA",
      "execution_count": 25,
      "outputs": []
    },
    {
      "cell_type": "code",
      "source": [
        "dT2/max(tt2)"
      ],
      "metadata": {
        "colab": {
          "base_uri": "https://localhost:8080/"
        },
        "id": "UAqeGOqX2s4r",
        "outputId": "c4c789db-fef5-4e74-e659-4c312dcedceb"
      },
      "id": "UAqeGOqX2s4r",
      "execution_count": 26,
      "outputs": [
        {
          "output_type": "execute_result",
          "data": {
            "text/plain": [
              "0.43382762073229264"
            ]
          },
          "metadata": {},
          "execution_count": 26
        }
      ]
    },
    {
      "cell_type": "markdown",
      "source": [
        "## Hundreds of Thousands of Plots "
      ],
      "metadata": {
        "id": "Ca3cVrljMRsk"
      },
      "id": "Ca3cVrljMRsk"
    },
    {
      "cell_type": "markdown",
      "source": [
        "If there are 8 different bins or histograms of random height and random duration"
      ],
      "metadata": {
        "id": "UMKbH0MyMots"
      },
      "id": "UMKbH0MyMots"
    },
    {
      "cell_type": "code",
      "source": [
        "#Each bin has a height and a width and there are 8 bins. Each row represents a burn event. \n",
        "#The distribution of heights and widths is uniform between: 0 and 4 minutes for width and 0 and 100 for kW/m2 for heat flux.\n",
        "durations = []; heights = []\n",
        "notests = 200000; factor = 1.2\n",
        "for each in range(notests):\n",
        "    durations.append(np.random.beta(0.5,0.5,8)*4) #4 minute max duration per subevent\n",
        "    heights.append(np.random.beta(0.5,0.5,8)*80) # 0-200 kW/m2"
      ],
      "metadata": {
        "id": "IDnXrtUl2ur6"
      },
      "id": "IDnXrtUl2ur6",
      "execution_count": 42,
      "outputs": []
    },
    {
      "cell_type": "code",
      "source": [
        "#heights = np.insert(heights,0,0,axis=1);\n",
        "#heights = np.insert(heights,9,0,axis=1)#heights = np.append(heights,0,1)"
      ],
      "metadata": {
        "id": "XrxSV5ZEAPJd"
      },
      "id": "XrxSV5ZEAPJd",
      "execution_count": 43,
      "outputs": []
    },
    {
      "cell_type": "code",
      "source": [
        "indexh = np.random.randint(0,notests,6)\n",
        "def durs(j):\n",
        "    out = [(durations[indexh[j]][0:i+1]).sum() for i,each in enumerate(durations[indexh[j]])]-durations[indexh[j]]\n",
        "    return out #np.append(out,out[-1]+durations[indexh[j]][-1])"
      ],
      "metadata": {
        "id": "fMkGDEnsKFu8"
      },
      "id": "fMkGDEnsKFu8",
      "execution_count": 44,
      "outputs": []
    },
    {
      "cell_type": "code",
      "source": [
        "fig, ((ax1, ax2), (ax3, ax4),(ax5,ax6)) = plt.subplots(3, 2,figsize=[10,6])\n",
        "fig.suptitle('Example plots of random heat fluxes, yaxis is heat flux, kW/m2')\n",
        "ax1.plot(durs(0),heights[indexh[0]])\n",
        "ax2.plot(durs(1),heights[indexh[1]], 'tab:orange')\n",
        "ax3.plot(durs(2),heights[indexh[2]], 'tab:green')\n",
        "ax4.plot(durs(3),heights[indexh[3]], 'tab:red')\n",
        "ax5.plot(durs(4),heights[indexh[4]], 'tab:gray')\n",
        "ax5.set_xlabel(\"time, min\")\n",
        "ax6.plot(durs(5),heights[indexh[5]], 'tab:purple')\n",
        "ax6.set_xlabel(\"time, min\")\n",
        "plt.show()"
      ],
      "metadata": {
        "colab": {
          "base_uri": "https://localhost:8080/",
          "height": 431
        },
        "id": "vNC2i0VEPCjP",
        "outputId": "0b2637f5-3a3b-43e8-d9bc-05caa921e304"
      },
      "id": "vNC2i0VEPCjP",
      "execution_count": 45,
      "outputs": [
        {
          "output_type": "display_data",
          "data": {
            "text/plain": [
              "<Figure size 720x432 with 6 Axes>"
            ],
            "image/png": "[encoded data removed]"
          },
          "metadata": {
            "needs_background": "light"
          }
        }
      ]
    },
    {
      "cell_type": "markdown",
      "source": [
        "Although shown as lines, they're really bars with the above given durations and heights"
      ],
      "metadata": {
        "id": "ad3wRmsPAtvD"
      },
      "id": "ad3wRmsPAtvD"
    },
    {
      "cell_type": "code",
      "source": [
        "averages = np.array([each.mean() for each in heights])\n",
        "tdur = np.array([each.sum() for each in durations])\n",
        "peaks = np.array([each.max() for each in heights])"
      ],
      "metadata": {
        "id": "4J-16tluTlP8"
      },
      "id": "4J-16tluTlP8",
      "execution_count": 46,
      "outputs": []
    },
    {
      "cell_type": "code",
      "source": [
        "#plot of the ratio of the peak to the average for the example events\n",
        "ratio = peaks/averages\n",
        "plt.hist(ratio);plt.show()"
      ],
      "metadata": {
        "colab": {
          "base_uri": "https://localhost:8080/",
          "height": 265
        },
        "id": "DIS2pxm9LDmO",
        "outputId": "75eaa516-8a83-4232-bd68-f582a543f86c"
      },
      "id": "DIS2pxm9LDmO",
      "execution_count": 47,
      "outputs": [
        {
          "output_type": "display_data",
          "data": {
            "text/plain": [
              "<Figure size 432x288 with 1 Axes>"
            ],
            "image/png": "[encoded data removed]"
          },
          "metadata": {
            "needs_background": "light"
          }
        }
      ]
    },
    {
      "cell_type": "code",
      "source": [
        "ratio.max()"
      ],
      "metadata": {
        "colab": {
          "base_uri": "https://localhost:8080/"
        },
        "id": "uadtbtp0Owx1",
        "outputId": "af410738-471c-46de-ff79-3d77759d2095"
      },
      "id": "uadtbtp0Owx1",
      "execution_count": 48,
      "outputs": [
        {
          "output_type": "execute_result",
          "data": {
            "text/plain": [
              "6.749839507442271"
            ]
          },
          "metadata": {},
          "execution_count": 48
        }
      ]
    },
    {
      "cell_type": "code",
      "source": [
        "plt.hist(peaks,alpha=0.7)\n",
        "plt.hist(averages,alpha=0.7,color='r')\n",
        "plt.show()"
      ],
      "metadata": {
        "colab": {
          "base_uri": "https://localhost:8080/",
          "height": 265
        },
        "id": "bfD1TCn9T0kG",
        "outputId": "6c5490e0-ab2d-4f61-aa24-b8edbe09364f"
      },
      "id": "bfD1TCn9T0kG",
      "execution_count": 49,
      "outputs": [
        {
          "output_type": "display_data",
          "data": {
            "text/plain": [
              "<Figure size 432x288 with 1 Axes>"
            ],
            "image/png": "[encoded data removed]"
          },
          "metadata": {
            "needs_background": "light"
          }
        }
      ]
    },
    {
      "cell_type": "code",
      "source": [
        "#convert to numpy arrays\n",
        "durations = np.array(durations); heights = np.array(heights)"
      ],
      "metadata": {
        "id": "oCDP9zmMA6Bk"
      },
      "id": "oCDP9zmMA6Bk",
      "execution_count": 50,
      "outputs": []
    },
    {
      "cell_type": "code",
      "source": [
        "integ = durations*heights**factor\n",
        "integl = [each.sum() for each in integ]"
      ],
      "metadata": {
        "id": "FLKyE-4LAxaO"
      },
      "id": "FLKyE-4LAxaO",
      "execution_count": 51,
      "outputs": []
    },
    {
      "cell_type": "code",
      "source": [
        "meth1 = tdur*averages**factor; meth2 = tdur/2*peaks**factor; meth3 = tdur*averages/peaks*peaks**factor"
      ],
      "metadata": {
        "id": "i2Qxb-mEA1fQ"
      },
      "id": "i2Qxb-mEA1fQ",
      "execution_count": 52,
      "outputs": []
    },
    {
      "cell_type": "code",
      "source": [
        "plt.hist((meth1-integl)/integl*100,bins=50,alpha=0.7,color='r')\n",
        "plt.hist((meth2-integl)/integl*100,bins=50,alpha=0.7,color='g')\n",
        "plt.hist((meth3-integl)/integl*100,bins=50,alpha=0.5,color='b')\n",
        "plt.xlim(-100,500)\n",
        "plt.show()"
      ],
      "metadata": {
        "colab": {
          "base_uri": "https://localhost:8080/",
          "height": 265
        },
        "id": "exxhqQupBBaZ",
        "outputId": "ea232c61-0960-4a4f-d57f-ff57b0ad31b4"
      },
      "id": "exxhqQupBBaZ",
      "execution_count": 53,
      "outputs": [
        {
          "output_type": "display_data",
          "data": {
            "text/plain": [
              "<Figure size 432x288 with 1 Axes>"
            ],
            "image/png": "[encoded data removed]"
          },
          "metadata": {
            "needs_background": "light"
          }
        }
      ]
    },
    {
      "cell_type": "code",
      "source": [
        "((meth1-integl)/integl*100).mean(),((meth1-integl)/integl*100).std()"
      ],
      "metadata": {
        "colab": {
          "base_uri": "https://localhost:8080/"
        },
        "id": "KNqSYzR4BDRj",
        "outputId": "55524d16-92b5-4926-a1d5-6612ea315a42"
      },
      "id": "KNqSYzR4BDRj",
      "execution_count": 54,
      "outputs": [
        {
          "output_type": "execute_result",
          "data": {
            "text/plain": [
              "(-0.7946549327551506, 29.216520698921105)"
            ]
          },
          "metadata": {},
          "execution_count": 54
        }
      ]
    },
    {
      "cell_type": "code",
      "source": [
        "((meth2-integl)/integl*100).mean(),((meth2-integl)/integl*100).std()"
      ],
      "metadata": {
        "colab": {
          "base_uri": "https://localhost:8080/"
        },
        "id": "7wppads8BGYn",
        "outputId": "31874c6b-b7de-43e6-c9de-defcb1a13a15"
      },
      "id": "7wppads8BGYn",
      "execution_count": 55,
      "outputs": [
        {
          "output_type": "execute_result",
          "data": {
            "text/plain": [
              "(16.05975001546028, 59.76305350182554)"
            ]
          },
          "metadata": {},
          "execution_count": 55
        }
      ]
    },
    {
      "cell_type": "code",
      "source": [
        "((meth3-integl)/integl*100).mean(),((meth3-integl)/integl*100).std()"
      ],
      "metadata": {
        "colab": {
          "base_uri": "https://localhost:8080/"
        },
        "id": "7vtBHcMnBJ2y",
        "outputId": "687fe415-17cf-4d9d-be68-2942c3ba2600"
      },
      "id": "7vtBHcMnBJ2y",
      "execution_count": 56,
      "outputs": [
        {
          "output_type": "execute_result",
          "data": {
            "text/plain": [
              "(13.636753526230487, 35.348443987262854)"
            ]
          },
          "metadata": {},
          "execution_count": 56
        }
      ]
    },
    {
      "cell_type": "code",
      "source": [],
      "metadata": {
        "id": "lu4Q__aGBSiC"
      },
      "id": "lu4Q__aGBSiC",
      "execution_count": 41,
      "outputs": []
    }
  ],
  "metadata": {
    "kernelspec": {
      "display_name": "Python 3 (ipykernel)",
      "language": "python",
      "name": "python3"
    },
    "language_info": {
      "codemirror_mode": {
        "name": "ipython",
        "version": 3
      },
      "file_extension": ".py",
      "mimetype": "text/x-python",
      "name": "python",
      "nbconvert_exporter": "python",
      "pygments_lexer": "ipython3",
      "version": "3.9.12"
    },
    "colab": {
      "provenance": [],
      "include_colab_link": true
    }
  },
  "nbformat": 4,
  "nbformat_minor": 5
}