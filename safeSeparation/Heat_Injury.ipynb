{
  "cells": [
    {
      "cell_type": "markdown",
      "metadata": {
        "id": "view-in-github",
        "colab_type": "text"
      },
      "source": [
        "<a href=\"https://colab.research.google.com/github/clint-bg/publicationdata/blob/main/safeSeparation/Heat_Injury.ipynb\" target=\"_parent\"><img src=\"https://colab.research.google.com/assets/colab-badge.svg\" alt=\"Open In Colab\"/></a>"
      ]
    },
    {
      "cell_type": "markdown",
      "id": "8f680a62",
      "metadata": {
        "id": "8f680a62"
      },
      "source": [
        "# Heat Injury"
      ]
    },
    {
      "cell_type": "markdown",
      "id": "e044efff",
      "metadata": {
        "id": "e044efff"
      },
      "source": [
        "Injury from exposure to radiative heat flux depends on the heat flux and the duration. Often the heat flux given off by the source is not a constant value, like from a burning collection of propellant. The heat flux is low than rises as more and more material is burning and then decreases. "
      ]
    },
    {
      "cell_type": "markdown",
      "id": "4fc88819",
      "metadata": {
        "id": "4fc88819"
      },
      "source": [
        "Below is a comparison of the heat injury (integral of the heat flux over time) for two differenct scenarios:\n",
        "- a normal or gaussian like profile of heat flux versus time\n",
        "- a non-normal profile"
      ]
    },
    {
      "cell_type": "code",
      "execution_count": null,
      "id": "e01d2a4b",
      "metadata": {
        "id": "e01d2a4b"
      },
      "outputs": [],
      "source": [
        "# import needed packages\n",
        "import numpy as np\n",
        "import matplotlib.pyplot as plt\n",
        "from scipy.stats import norm\n",
        "import scipy.integrate as integrate"
      ]
    },
    {
      "cell_type": "markdown",
      "id": "f7739f78",
      "metadata": {
        "id": "f7739f78"
      },
      "source": [
        "## Normal profile of heat flux"
      ]
    },
    {
      "cell_type": "markdown",
      "id": "cacbcf3e",
      "metadata": {
        "id": "cacbcf3e"
      },
      "source": [
        "Below is the normal estimate of a heat flux event as a function of time with the total thermal damage estimated"
      ]
    },
    {
      "cell_type": "code",
      "execution_count": null,
      "id": "479a0e39",
      "metadata": {
        "id": "479a0e39"
      },
      "outputs": [],
      "source": [
        "t = np.linspace(0,1.96*2,100)"
      ]
    },
    {
      "cell_type": "code",
      "execution_count": null,
      "id": "8cb848ab",
      "metadata": {
        "id": "8cb848ab"
      },
      "outputs": [],
      "source": [
        "n = norm.pdf(t,1.96)*20 #a ficticious but plausible heat flux curve"
      ]
    },
    {
      "cell_type": "code",
      "execution_count": null,
      "id": "9249e695",
      "metadata": {
        "id": "9249e695",
        "outputId": "9c1125ee-52c4-4c61-de63-ff05a4c48928"
      },
      "outputs": [
        {
          "data": {
            "image/png": "[encoded data removed]",
            "text/plain": [
              "<Figure size 432x288 with 1 Axes>"
            ]
          },
          "metadata": {
            "needs_background": "light"
          },
          "output_type": "display_data"
        }
      ],
      "source": [
        "plt.plot(t,n)\n",
        "plt.xlabel(\"time, sec\"); plt.ylabel(\"heat flux, kW/m2\")\n",
        "plt.show()"
      ]
    },
    {
      "cell_type": "markdown",
      "id": "eb0ef910",
      "metadata": {
        "id": "eb0ef910"
      },
      "source": [
        "If the entire curve is integrated, that is a measure of the thermal damage. Such an approximation of the damage assumes that the damage scales linearly with heat flux. For example, if a person is exposed to 4 kW/m2 for 20 seconds, that damage is 80 kJ/m2, while a thermal heat flux 2 times that 4 kW/m2 value for the same 20 seconds yields a damage of 160 kJ/m2, a correspondingly linear outcome (double the heat flux and double the damage). However, it has been published that the thermal damage does not scale linearly with the heat flux. If the relationship to damage is thus non-linear, with, for example, a factor of an exponential of 1.2 then for a heat flux of 4 kW/m2 for 20 second the damage would be (20\\*4^1.2) 105 kJ/m2 and if the heat flux is double to 8 the damage would be (20\\*8^1.2) 242 kJ/mol. This is a non-linear relationship as when the heat flux is doubled, the damage increases by a factor greater than 2 (2.3 in this case). It is not known what that exponential multiplier would be for thermal damage but a value of 1.2 is considered conservative."
      ]
    },
    {
      "cell_type": "code",
      "execution_count": null,
      "id": "16549d61",
      "metadata": {
        "id": "16549d61"
      },
      "outputs": [],
      "source": [
        "factor = 1.2"
      ]
    },
    {
      "cell_type": "code",
      "execution_count": null,
      "id": "77eaad8e",
      "metadata": {
        "id": "77eaad8e",
        "outputId": "1ce5341a-88b4-42a6-df5d-850831fea774"
      },
      "outputs": [
        {
          "data": {
            "text/plain": [
              "26.779256051514018"
            ]
          },
          "execution_count": 6,
          "metadata": {},
          "output_type": "execute_result"
        }
      ],
      "source": [
        "#estimate of the total damage from the curve\n",
        "integrate.simpson(n**factor,t)"
      ]
    },
    {
      "cell_type": "markdown",
      "id": "cbadc4f2",
      "metadata": {
        "id": "cbadc4f2"
      },
      "source": [
        "The above value is the damage measure given we know heat flux as a function of time. If we only know the average and the maximum heat fluxes one way is to use the average value and correspondingly estimate the damage:"
      ]
    },
    {
      "cell_type": "code",
      "execution_count": null,
      "id": "5afe4c66",
      "metadata": {
        "id": "5afe4c66",
        "outputId": "b730e394-1a07-4f25-9078-fa73dd9b6aab"
      },
      "outputs": [
        {
          "data": {
            "text/plain": [
              "25.81446659226213"
            ]
          },
          "execution_count": 7,
          "metadata": {},
          "output_type": "execute_result"
        }
      ],
      "source": [
        "#using the average value of the heat flux burn to estimate the damage with the entire duration\n",
        "max(t)*n.mean()**factor"
      ]
    },
    {
      "cell_type": "markdown",
      "id": "0a3eccda",
      "metadata": {
        "id": "0a3eccda"
      },
      "source": [
        "That 25.8 value is close to the 26.8 damage \"true\" value"
      ]
    },
    {
      "cell_type": "markdown",
      "id": "8c34b8fe",
      "metadata": {
        "id": "8c34b8fe"
      },
      "source": [
        "If on the other hand, the peak value is used with half the duration of the burn, the damage estimate is"
      ]
    },
    {
      "cell_type": "code",
      "execution_count": null,
      "id": "3214f935",
      "metadata": {
        "id": "3214f935",
        "outputId": "b03495c6-aaab-485d-e755-ea3423c0e3b1"
      },
      "outputs": [
        {
          "data": {
            "text/plain": [
              "23.68547013494428"
            ]
          },
          "execution_count": 8,
          "metadata": {},
          "output_type": "execute_result"
        }
      ],
      "source": [
        "max(t)/2*n.max()**factor #max and half the time"
      ]
    },
    {
      "cell_type": "markdown",
      "id": "cc49adce",
      "metadata": {
        "id": "cc49adce"
      },
      "source": [
        "That 23.7 value is significantly less than the 26.8 \"true\" value"
      ]
    },
    {
      "cell_type": "markdown",
      "id": "f82cbffb",
      "metadata": {
        "id": "f82cbffb"
      },
      "source": [
        "Conclusion: the average value and full duration is a more accurate (and conservative) estimate than the peak value and half duration."
      ]
    },
    {
      "cell_type": "markdown",
      "id": "f241d03e",
      "metadata": {
        "id": "f241d03e"
      },
      "source": [
        "## Non-normal profile of heat flux"
      ]
    },
    {
      "cell_type": "markdown",
      "id": "af1a08d1",
      "metadata": {
        "id": "af1a08d1"
      },
      "source": [
        "A non-normal profile of the heat flux during a burn from an energetic material is a more likely scenario. In such a non-normal profile, the burn may be proceeding in an average way and then ocasionally gives spurts or high heat fluxes. The below profile is fictional but also plausible."
      ]
    },
    {
      "cell_type": "code",
      "execution_count": null,
      "id": "e238afd8",
      "metadata": {
        "id": "e238afd8"
      },
      "outputs": [],
      "source": [
        "nn = np.concatenate((n[0:int(len(n)/2)],np.ones(500)*n.max(),n[int(len(n)/2):]))\n",
        "#add a spurt\n",
        "nn = nn + np.concatenate((n*0.5,np.zeros(500)))"
      ]
    },
    {
      "cell_type": "code",
      "execution_count": null,
      "id": "ec9bad71",
      "metadata": {
        "id": "ec9bad71"
      },
      "outputs": [],
      "source": [
        "tt = np.linspace(0,1.96*20,len(nn))"
      ]
    },
    {
      "cell_type": "code",
      "execution_count": null,
      "id": "bf6eca7b",
      "metadata": {
        "id": "bf6eca7b",
        "outputId": "c6c7b8dc-4ada-4747-a127-b21487fd2325"
      },
      "outputs": [
        {
          "data": {
            "image/png": "[encoded data removed]",
            "text/plain": [
              "<Figure size 432x288 with 1 Axes>"
            ]
          },
          "metadata": {
            "needs_background": "light"
          },
          "output_type": "display_data"
        }
      ],
      "source": [
        "plt.plot(tt,nn)\n",
        "plt.xlabel(\"time, sec\"); plt.ylabel(\"heat flux, kW/m2\")\n",
        "plt.show()"
      ]
    },
    {
      "cell_type": "markdown",
      "id": "098286a8",
      "metadata": {
        "id": "098286a8"
      },
      "source": [
        "Completing the same steps as above for the normal curve, we get the following results:"
      ]
    },
    {
      "cell_type": "code",
      "execution_count": null,
      "id": "929a865b",
      "metadata": {
        "id": "929a865b",
        "outputId": "d283d85a-dab6-43df-e9a0-de35bf4d394e"
      },
      "outputs": [
        {
          "data": {
            "text/plain": [
              "468.3304325267019"
            ]
          },
          "execution_count": 12,
          "metadata": {},
          "output_type": "execute_result"
        }
      ],
      "source": [
        "#actual thermal damage using the heat flux\n",
        "integrate.simpson(nn**factor,tt)"
      ]
    },
    {
      "cell_type": "code",
      "execution_count": null,
      "id": "dd2c635d",
      "metadata": {
        "id": "dd2c635d",
        "outputId": "210ea180-47c2-4447-d560-d6835169d595"
      },
      "outputs": [
        {
          "data": {
            "text/plain": [
              "464.6711604414533"
            ]
          },
          "execution_count": 13,
          "metadata": {},
          "output_type": "execute_result"
        }
      ],
      "source": [
        "#using the average value of the heat flux burn to estimate the damage with the entire duration\n",
        "max(tt)*nn.mean()**factor"
      ]
    },
    {
      "cell_type": "code",
      "execution_count": null,
      "id": "8a7c2d8a",
      "metadata": {
        "id": "8a7c2d8a",
        "outputId": "28e5fd6d-2031-497b-fccd-f1374d63b355"
      },
      "outputs": [
        {
          "data": {
            "text/plain": [
              "385.29335623339824"
            ]
          },
          "execution_count": 14,
          "metadata": {},
          "output_type": "execute_result"
        }
      ],
      "source": [
        "max(tt)/2*nn.max()**factor #max and half the time"
      ]
    },
    {
      "cell_type": "markdown",
      "id": "ff437d66",
      "metadata": {
        "id": "ff437d66"
      },
      "source": [
        "Consistent with the previous result with a normal curve, this instance of a non-normal curve also yields that the average value for the total duration is more accurate (and conservative) than is the max for half the time."
      ]
    },
    {
      "cell_type": "markdown",
      "id": "41f0cbfa",
      "metadata": {
        "id": "41f0cbfa"
      },
      "source": [
        "Conclusion: again, the average value and full duration is a more conservative estimate than the peak value and half duration."
      ]
    },
    {
      "cell_type": "code",
      "execution_count": null,
      "id": "3dfde082",
      "metadata": {
        "id": "3dfde082"
      },
      "outputs": [],
      "source": []
    }
  ],
  "metadata": {
    "kernelspec": {
      "display_name": "Python 3 (ipykernel)",
      "language": "python",
      "name": "python3"
    },
    "language_info": {
      "codemirror_mode": {
        "name": "ipython",
        "version": 3
      },
      "file_extension": ".py",
      "mimetype": "text/x-python",
      "name": "python",
      "nbconvert_exporter": "python",
      "pygments_lexer": "ipython3",
      "version": "3.9.12"
    },
    "colab": {
      "provenance": [],
      "include_colab_link": true
    }
  },
  "nbformat": 4,
  "nbformat_minor": 5
}