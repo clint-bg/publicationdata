{
  "cells": [
    {
      "cell_type": "markdown",
      "metadata": {
        "id": "view-in-github",
        "colab_type": "text"
      },
      "source": [
        "<a href=\"https://colab.research.google.com/github/clint-bg/publicationdata/blob/main/safeDistancesOpenBurn.ipynb\" target=\"_parent\"><img src=\"https://colab.research.google.com/assets/colab-badge.svg\" alt=\"Open In Colab\"/></a>"
      ]
    },
    {
      "cell_type": "markdown",
      "metadata": {
        "tags": [],
        "id": "hnjN-eBta46G"
      },
      "source": [
        "# Heat Flux from Propellant, Fireworks, Flares, and an Organic Peroxide\n",
        "***\n",
        "## Approach: Estimate the safe distance from test data\n",
        "This notebook treats the heat flux and its estimation based on open burning of propellant in drums or in fires. Confined scenarios or explosions are not treated hear. Clint Guymon, Safety Management Services, Inc.\n",
        "***\n",
        "## Conclusions: The safe distance is adequately captured by the existing HD1.3 siting distance"
      ]
    },
    {
      "cell_type": "markdown",
      "metadata": {
        "id": "Q9Om7g6Ma46J"
      },
      "source": [
        "***\n",
        "## Necessary code and data import"
      ]
    },
    {
      "cell_type": "code",
      "execution_count": 1,
      "metadata": {
        "code_folding": [],
        "tags": [],
        "id": "-UpONMkda46K"
      },
      "outputs": [],
      "source": [
        "#Import necessary packages\n",
        "#%matplotlib notebook\n",
        "from mpl_toolkits.mplot3d import Axes3D\n",
        "import matplotlib.pyplot as plt\n",
        "import numpy as np\n",
        "import pandas as pd\n",
        "import seaborn as sea\n",
        "from scipy.optimize import fsolve, minimize\n",
        "from scipy.stats import t #import t distribution methods"
      ]
    },
    {
      "cell_type": "markdown",
      "metadata": {
        "id": "AZtxyd-Ua46M"
      },
      "source": [
        "### Import data"
      ]
    },
    {
      "cell_type": "markdown",
      "metadata": {
        "id": "4O_vTaWka46N"
      },
      "source": [
        "The majority of the heat flux data is from \"Scaling Studies of Thermal Radiation Flux from Burning Propellants\" by J. Hay and R.W. Watson of Bureau of Mines as commissioned by the DDESB in 1992. Various propellant types and masses were tested in a top down burn or external fire of a single barrel or package of propellant."
      ]
    },
    {
      "cell_type": "code",
      "execution_count": 2,
      "metadata": {
        "tags": [],
        "id": "_StuOv4ea46N"
      },
      "outputs": [],
      "source": [
        "url = 'https://raw.githubusercontent.com/clint-bg/publicationdata/main/heatfluxdata.csv' #url with raw data\n",
        "df = pd.read_csv(url)"
      ]
    },
    {
      "cell_type": "code",
      "execution_count": 3,
      "metadata": {
        "id": "smzBhgKda46N"
      },
      "outputs": [],
      "source": [
        "#define a safe heat flux as a function of distance per second degree burns and a max exposure time of 20 seconds\n",
        "#(per 6055.09, 2012, V1.E9.3.1.2 to prevent second degree burns)\n",
        "qsafeat20 = 0.116 #qsafe at 20 second exposure\n",
        "def safeHF(t):\n",
        "    return (t/0.858)**(-1/1.46) if t<20 else qsafeat20"
      ]
    },
    {
      "cell_type": "code",
      "execution_count": 4,
      "metadata": {
        "id": "YD_r-Cxoa46O"
      },
      "outputs": [],
      "source": [
        "#add new column for unique id = ref id + test id\n",
        "df['Unique ID'] = df.agg('R{0[Reference ID]}T{0[Test #]}'.format, axis=1)\n",
        "#add column for safe heat flux \n",
        "safeQ = df.groupby('Unique ID').apply(lambda x: np.percentile(\n",
        "    [safeHF(x) for x in x['Burn time, sec']],75))\n",
        "safeQ.name = 'Safe Heat Flux, cal/cm2/sec'\n",
        "#add to dataframe\n",
        "df['Safe Heat Flux, cal/cm2/sec'] = df['Unique ID'].apply(lambda x:safeQ.loc[x])"
      ]
    },
    {
      "cell_type": "markdown",
      "metadata": {
        "id": "AVzMP_yra46P"
      },
      "source": [
        "## Data summary"
      ]
    },
    {
      "cell_type": "code",
      "execution_count": 5,
      "metadata": {
        "colab": {
          "base_uri": "https://localhost:8080/",
          "height": 269
        },
        "id": "nGv6Lwdoa46P",
        "outputId": "f4817c41-f422-4e7e-9352-3efb44f9003a"
      },
      "outputs": [
        {
          "output_type": "execute_result",
          "data": {
            "text/plain": [
              "                                                      Reference  \\\n",
              "Reference ID                                                      \n",
              "1             [DDESB BOM \"SCALING STUDIES OF THERMAL RADIATI...   \n",
              "2             [TNO T 1022 \"Thermal Radiation of Fireworks\" 1...   \n",
              "3             [DDESB IIT Research Institute R. Pape T. Water...   \n",
              "4             [SMS C. Guymon \"Heat flux from the Top Ignitio...   \n",
              "5             [China Lake Ranges Test Operation Branch (DB11...   \n",
              "6             [ \"China Lake; Convective Combustion of Unconf...   \n",
              "\n",
              "                                               Propellant types  # of Tests  \n",
              "Reference ID                                                                 \n",
              "1             [IMR5010, M1-8-SP, M1-8-MP, WC844, WC846, WCBl...          49  \n",
              "2                                                   [Fireworks]          16  \n",
              "3                                                   [M1, WC844]          46  \n",
              "4                                                       [WC814]           1  \n",
              "5                                                          [M1]           1  \n",
              "6                                                          [M1]           2  "
            ],
            "text/html": [
              "\n",
              "  <div id=\"df-53f4003e-44f7-4996-885b-8adbb89e19a8\">\n",
              "    <div class=\"colab-df-container\">\n",
              "      <div>\n",
              "<style scoped>\n",
              "    .dataframe tbody tr th:only-of-type {\n",
              "        vertical-align: middle;\n",
              "    }\n",
              "\n",
              "    .dataframe tbody tr th {\n",
              "        vertical-align: top;\n",
              "    }\n",
              "\n",
              "    .dataframe thead th {\n",
              "        text-align: right;\n",
              "    }\n",
              "</style>\n",
              "<table border=\"1\" class=\"dataframe\">\n",
              "  <thead>\n",
              "    <tr style=\"text-align: right;\">\n",
              "      <th></th>\n",
              "      <th>Reference</th>\n",
              "      <th>Propellant types</th>\n",
              "      <th># of Tests</th>\n",
              "    </tr>\n",
              "    <tr>\n",
              "      <th>Reference ID</th>\n",
              "      <th></th>\n",
              "      <th></th>\n",
              "      <th></th>\n",
              "    </tr>\n",
              "  </thead>\n",
              "  <tbody>\n",
              "    <tr>\n",
              "      <th>1</th>\n",
              "      <td>[DDESB BOM \"SCALING STUDIES OF THERMAL RADIATI...</td>\n",
              "      <td>[IMR5010, M1-8-SP, M1-8-MP, WC844, WC846, WCBl...</td>\n",
              "      <td>49</td>\n",
              "    </tr>\n",
              "    <tr>\n",
              "      <th>2</th>\n",
              "      <td>[TNO T 1022 \"Thermal Radiation of Fireworks\" 1...</td>\n",
              "      <td>[Fireworks]</td>\n",
              "      <td>16</td>\n",
              "    </tr>\n",
              "    <tr>\n",
              "      <th>3</th>\n",
              "      <td>[DDESB IIT Research Institute R. Pape T. Water...</td>\n",
              "      <td>[M1, WC844]</td>\n",
              "      <td>46</td>\n",
              "    </tr>\n",
              "    <tr>\n",
              "      <th>4</th>\n",
              "      <td>[SMS C. Guymon \"Heat flux from the Top Ignitio...</td>\n",
              "      <td>[WC814]</td>\n",
              "      <td>1</td>\n",
              "    </tr>\n",
              "    <tr>\n",
              "      <th>5</th>\n",
              "      <td>[China Lake Ranges Test Operation Branch (DB11...</td>\n",
              "      <td>[M1]</td>\n",
              "      <td>1</td>\n",
              "    </tr>\n",
              "    <tr>\n",
              "      <th>6</th>\n",
              "      <td>[ \"China Lake; Convective Combustion of Unconf...</td>\n",
              "      <td>[M1]</td>\n",
              "      <td>2</td>\n",
              "    </tr>\n",
              "  </tbody>\n",
              "</table>\n",
              "</div>\n",
              "      <button class=\"colab-df-convert\" onclick=\"convertToInteractive('df-53f4003e-44f7-4996-885b-8adbb89e19a8')\"\n",
              "              title=\"Convert this dataframe to an interactive table.\"\n",
              "              style=\"display:none;\">\n",
              "        \n",
              "  <svg xmlns=\"http://www.w3.org/2000/svg\" height=\"24px\"viewBox=\"0 0 24 24\"\n",
              "       width=\"24px\">\n",
              "    <path d=\"M0 0h24v24H0V0z\" fill=\"none\"/>\n",
              "    <path d=\"M18.56 5.44l.94 2.06.94-2.06 2.06-.94-2.06-.94-.94-2.06-.94 2.06-2.06.94zm-11 1L8.5 8.5l.94-2.06 2.06-.94-2.06-.94L8.5 2.5l-.94 2.06-2.06.94zm10 10l.94 2.06.94-2.06 2.06-.94-2.06-.94-.94-2.06-.94 2.06-2.06.94z\"/><path d=\"M17.41 7.96l-1.37-1.37c-.4-.4-.92-.59-1.43-.59-.52 0-1.04.2-1.43.59L10.3 9.45l-7.72 7.72c-.78.78-.78 2.05 0 2.83L4 21.41c.39.39.9.59 1.41.59.51 0 1.02-.2 1.41-.59l7.78-7.78 2.81-2.81c.8-.78.8-2.07 0-2.86zM5.41 20L4 18.59l7.72-7.72 1.47 1.35L5.41 20z\"/>\n",
              "  </svg>\n",
              "      </button>\n",
              "      \n",
              "  <style>\n",
              "    .colab-df-container {\n",
              "      display:flex;\n",
              "      flex-wrap:wrap;\n",
              "      gap: 12px;\n",
              "    }\n",
              "\n",
              "    .colab-df-convert {\n",
              "      background-color: #E8F0FE;\n",
              "      border: none;\n",
              "      border-radius: 50%;\n",
              "      cursor: pointer;\n",
              "      display: none;\n",
              "      fill: #1967D2;\n",
              "      height: 32px;\n",
              "      padding: 0 0 0 0;\n",
              "      width: 32px;\n",
              "    }\n",
              "\n",
              "    .colab-df-convert:hover {\n",
              "      background-color: #E2EBFA;\n",
              "      box-shadow: 0px 1px 2px rgba(60, 64, 67, 0.3), 0px 1px 3px 1px rgba(60, 64, 67, 0.15);\n",
              "      fill: #174EA6;\n",
              "    }\n",
              "\n",
              "    [theme=dark] .colab-df-convert {\n",
              "      background-color: #3B4455;\n",
              "      fill: #D2E3FC;\n",
              "    }\n",
              "\n",
              "    [theme=dark] .colab-df-convert:hover {\n",
              "      background-color: #434B5C;\n",
              "      box-shadow: 0px 1px 3px 1px rgba(0, 0, 0, 0.15);\n",
              "      filter: drop-shadow(0px 1px 2px rgba(0, 0, 0, 0.3));\n",
              "      fill: #FFFFFF;\n",
              "    }\n",
              "  </style>\n",
              "\n",
              "      <script>\n",
              "        const buttonEl =\n",
              "          document.querySelector('#df-53f4003e-44f7-4996-885b-8adbb89e19a8 button.colab-df-convert');\n",
              "        buttonEl.style.display =\n",
              "          google.colab.kernel.accessAllowed ? 'block' : 'none';\n",
              "\n",
              "        async function convertToInteractive(key) {\n",
              "          const element = document.querySelector('#df-53f4003e-44f7-4996-885b-8adbb89e19a8');\n",
              "          const dataTable =\n",
              "            await google.colab.kernel.invokeFunction('convertToInteractive',\n",
              "                                                     [key], {});\n",
              "          if (!dataTable) return;\n",
              "\n",
              "          const docLinkHtml = 'Like what you see? Visit the ' +\n",
              "            '<a target=\"_blank\" href=https://colab.research.google.com/notebooks/data_table.ipynb>data table notebook</a>'\n",
              "            + ' to learn more about interactive tables.';\n",
              "          element.innerHTML = '';\n",
              "          dataTable['output_type'] = 'display_data';\n",
              "          await google.colab.output.renderOutput(dataTable, element);\n",
              "          const docLink = document.createElement('div');\n",
              "          docLink.innerHTML = docLinkHtml;\n",
              "          element.appendChild(docLink);\n",
              "        }\n",
              "      </script>\n",
              "    </div>\n",
              "  </div>\n",
              "  "
            ]
          },
          "metadata": {},
          "execution_count": 5
        }
      ],
      "source": [
        "summary = df.groupby('Reference ID')['Reference'].unique().to_frame()\n",
        "summary['Propellant types'] = df.groupby('Reference ID')['Propellant type'].unique()\n",
        "summary['# of Tests'] = df.groupby('Reference ID')['Test #'].nunique()\n",
        "summary"
      ]
    },
    {
      "cell_type": "code",
      "execution_count": 6,
      "metadata": {
        "colab": {
          "base_uri": "https://localhost:8080/"
        },
        "id": "4FfookNPa46Q",
        "outputId": "2d1645af-3a61-4782-b6a1-95bf74708c56"
      },
      "outputs": [
        {
          "output_type": "stream",
          "name": "stdout",
          "text": [
            "0 :  \"China Lake; Convective Combustion of Unconfined HD 1.3 Material in Fiber Barrels; Presentation by Auston Bon et al.\"\n",
            "1 : TNO T 1022 \"Thermal Radiation of Fireworks\" 1984\n",
            "2 : DDESB IIT Research Institute R. Pape T. Waterman A. Takata \"Fire Hazards from Combustible Ammunition, Methodology Development (Phase I)\" 1980\n",
            "3 : SMS C. Guymon \"Heat flux from the Top Ignition of a Single Barrel of WC814\" TEAD 2020\n",
            "4 : DDESB BOM \"SCALING STUDIES OF THERMAL RADIATION FLUX FROM BURNING PROPELLANTS\" Hay and Watson 1992\n",
            "5 : China Lake Ranges Test Operation Branch (DB1110M), \"Convective Combustion of a Hazard Division 1.3 M1 Gun Propellant in Fiber Barrels Heat Flux Data, 20 March 2020\n"
          ]
        }
      ],
      "source": [
        "#References\n",
        "for i,each in enumerate(set(df['Reference'])):\n",
        "    print(i,\":\",each) "
      ]
    },
    {
      "cell_type": "code",
      "execution_count": 7,
      "metadata": {
        "colab": {
          "base_uri": "https://localhost:8080/"
        },
        "id": "KtzL3tBEa46R",
        "outputId": "50bd7352-7d1d-4797-b9c1-e2b11ad9e50d"
      },
      "outputs": [
        {
          "output_type": "execute_result",
          "data": {
            "text/plain": [
              "{'Fireworks',\n",
              " 'IMR5010',\n",
              " 'M1',\n",
              " 'M1-8-MP',\n",
              " 'M1-8-SP',\n",
              " 'WC814',\n",
              " 'WC844',\n",
              " 'WC846',\n",
              " 'WCBlank'}"
            ]
          },
          "metadata": {},
          "execution_count": 7
        }
      ],
      "source": [
        "#propellant types\n",
        "set(df['Propellant type'])"
      ]
    },
    {
      "cell_type": "code",
      "execution_count": 8,
      "metadata": {
        "colab": {
          "base_uri": "https://localhost:8080/"
        },
        "id": "hzpIgORra46R",
        "outputId": "9740d454-925a-4479-f049-a7b15184e349"
      },
      "outputs": [
        {
          "output_type": "execute_result",
          "data": {
            "text/plain": [
              "Propellant type\n",
              "Fireworks    16\n",
              "IMR5010      13\n",
              "M1           26\n",
              "M1-8-MP      12\n",
              "M1-8-SP      14\n",
              "WC814         1\n",
              "WC844        27\n",
              "WC846         3\n",
              "WCBlank       3\n",
              "Name: Test #, dtype: int64"
            ]
          },
          "metadata": {},
          "execution_count": 8
        }
      ],
      "source": [
        "#number of tests for each propellant\n",
        "df.groupby('Propellant type')['Test #'].nunique()"
      ]
    },
    {
      "cell_type": "code",
      "execution_count": 9,
      "metadata": {
        "colab": {
          "base_uri": "https://localhost:8080/"
        },
        "id": "goOQ7BkFa46R",
        "outputId": "10bc6220-c7e2-4cff-b3a8-ab156a718a25"
      },
      "outputs": [
        {
          "output_type": "execute_result",
          "data": {
            "text/plain": [
              "316"
            ]
          },
          "metadata": {},
          "execution_count": 9
        }
      ],
      "source": [
        "#total number of heat flux measurements\n",
        "len(df)"
      ]
    },
    {
      "cell_type": "code",
      "execution_count": 10,
      "metadata": {
        "colab": {
          "base_uri": "https://localhost:8080/",
          "height": 362
        },
        "id": "-IMHWkepa46S",
        "outputId": "cbce0d11-d39b-4650-ca5a-74d922436eee"
      },
      "outputs": [
        {
          "output_type": "execute_result",
          "data": {
            "text/plain": [
              "       Reference ID   Mass, kg  Distance, m  Peak heat flux, cal/cm2/sec  \\\n",
              "count    316.000000  316.00000   316.000000                   316.000000   \n",
              "mean       1.750000   76.04925     8.593196                     0.602391   \n",
              "std        1.167347   75.41618     5.381293                     0.957516   \n",
              "min        1.000000    0.34000     1.070000                     0.001505   \n",
              "25%        1.000000   45.40000     4.000000                     0.072015   \n",
              "50%        1.000000   49.90000     8.000000                     0.280000   \n",
              "75%        3.000000   95.30000    15.000000                     0.654000   \n",
              "max        6.000000  399.20000    20.000000                     9.600000   \n",
              "\n",
              "       Average heat flux, cal/cm2/sec  Burn time, sec  \\\n",
              "count                      316.000000      316.000000   \n",
              "mean                         0.234888       32.304781   \n",
              "std                          0.339860       31.616435   \n",
              "min                          0.000579        3.500000   \n",
              "25%                          0.032000       15.000000   \n",
              "50%                          0.098000       21.900000   \n",
              "75%                          0.284659       36.587062   \n",
              "max                          2.400000      215.000000   \n",
              "\n",
              "       Safe Heat Flux, cal/cm2/sec  \n",
              "count                   316.000000  \n",
              "mean                      0.136222  \n",
              "std                       0.033884  \n",
              "min                       0.116000  \n",
              "25%                       0.116000  \n",
              "50%                       0.116000  \n",
              "75%                       0.140897  \n",
              "max                       0.381763  "
            ],
            "text/html": [
              "\n",
              "  <div id=\"df-2cb1db76-e36a-498a-a4dc-9065fdbe0727\">\n",
              "    <div class=\"colab-df-container\">\n",
              "      <div>\n",
              "<style scoped>\n",
              "    .dataframe tbody tr th:only-of-type {\n",
              "        vertical-align: middle;\n",
              "    }\n",
              "\n",
              "    .dataframe tbody tr th {\n",
              "        vertical-align: top;\n",
              "    }\n",
              "\n",
              "    .dataframe thead th {\n",
              "        text-align: right;\n",
              "    }\n",
              "</style>\n",
              "<table border=\"1\" class=\"dataframe\">\n",
              "  <thead>\n",
              "    <tr style=\"text-align: right;\">\n",
              "      <th></th>\n",
              "      <th>Reference ID</th>\n",
              "      <th>Mass, kg</th>\n",
              "      <th>Distance, m</th>\n",
              "      <th>Peak heat flux, cal/cm2/sec</th>\n",
              "      <th>Average heat flux, cal/cm2/sec</th>\n",
              "      <th>Burn time, sec</th>\n",
              "      <th>Safe Heat Flux, cal/cm2/sec</th>\n",
              "    </tr>\n",
              "  </thead>\n",
              "  <tbody>\n",
              "    <tr>\n",
              "      <th>count</th>\n",
              "      <td>316.000000</td>\n",
              "      <td>316.00000</td>\n",
              "      <td>316.000000</td>\n",
              "      <td>316.000000</td>\n",
              "      <td>316.000000</td>\n",
              "      <td>316.000000</td>\n",
              "      <td>316.000000</td>\n",
              "    </tr>\n",
              "    <tr>\n",
              "      <th>mean</th>\n",
              "      <td>1.750000</td>\n",
              "      <td>76.04925</td>\n",
              "      <td>8.593196</td>\n",
              "      <td>0.602391</td>\n",
              "      <td>0.234888</td>\n",
              "      <td>32.304781</td>\n",
              "      <td>0.136222</td>\n",
              "    </tr>\n",
              "    <tr>\n",
              "      <th>std</th>\n",
              "      <td>1.167347</td>\n",
              "      <td>75.41618</td>\n",
              "      <td>5.381293</td>\n",
              "      <td>0.957516</td>\n",
              "      <td>0.339860</td>\n",
              "      <td>31.616435</td>\n",
              "      <td>0.033884</td>\n",
              "    </tr>\n",
              "    <tr>\n",
              "      <th>min</th>\n",
              "      <td>1.000000</td>\n",
              "      <td>0.34000</td>\n",
              "      <td>1.070000</td>\n",
              "      <td>0.001505</td>\n",
              "      <td>0.000579</td>\n",
              "      <td>3.500000</td>\n",
              "      <td>0.116000</td>\n",
              "    </tr>\n",
              "    <tr>\n",
              "      <th>25%</th>\n",
              "      <td>1.000000</td>\n",
              "      <td>45.40000</td>\n",
              "      <td>4.000000</td>\n",
              "      <td>0.072015</td>\n",
              "      <td>0.032000</td>\n",
              "      <td>15.000000</td>\n",
              "      <td>0.116000</td>\n",
              "    </tr>\n",
              "    <tr>\n",
              "      <th>50%</th>\n",
              "      <td>1.000000</td>\n",
              "      <td>49.90000</td>\n",
              "      <td>8.000000</td>\n",
              "      <td>0.280000</td>\n",
              "      <td>0.098000</td>\n",
              "      <td>21.900000</td>\n",
              "      <td>0.116000</td>\n",
              "    </tr>\n",
              "    <tr>\n",
              "      <th>75%</th>\n",
              "      <td>3.000000</td>\n",
              "      <td>95.30000</td>\n",
              "      <td>15.000000</td>\n",
              "      <td>0.654000</td>\n",
              "      <td>0.284659</td>\n",
              "      <td>36.587062</td>\n",
              "      <td>0.140897</td>\n",
              "    </tr>\n",
              "    <tr>\n",
              "      <th>max</th>\n",
              "      <td>6.000000</td>\n",
              "      <td>399.20000</td>\n",
              "      <td>20.000000</td>\n",
              "      <td>9.600000</td>\n",
              "      <td>2.400000</td>\n",
              "      <td>215.000000</td>\n",
              "      <td>0.381763</td>\n",
              "    </tr>\n",
              "  </tbody>\n",
              "</table>\n",
              "</div>\n",
              "      <button class=\"colab-df-convert\" onclick=\"convertToInteractive('df-2cb1db76-e36a-498a-a4dc-9065fdbe0727')\"\n",
              "              title=\"Convert this dataframe to an interactive table.\"\n",
              "              style=\"display:none;\">\n",
              "        \n",
              "  <svg xmlns=\"http://www.w3.org/2000/svg\" height=\"24px\"viewBox=\"0 0 24 24\"\n",
              "       width=\"24px\">\n",
              "    <path d=\"M0 0h24v24H0V0z\" fill=\"none\"/>\n",
              "    <path d=\"M18.56 5.44l.94 2.06.94-2.06 2.06-.94-2.06-.94-.94-2.06-.94 2.06-2.06.94zm-11 1L8.5 8.5l.94-2.06 2.06-.94-2.06-.94L8.5 2.5l-.94 2.06-2.06.94zm10 10l.94 2.06.94-2.06 2.06-.94-2.06-.94-.94-2.06-.94 2.06-2.06.94z\"/><path d=\"M17.41 7.96l-1.37-1.37c-.4-.4-.92-.59-1.43-.59-.52 0-1.04.2-1.43.59L10.3 9.45l-7.72 7.72c-.78.78-.78 2.05 0 2.83L4 21.41c.39.39.9.59 1.41.59.51 0 1.02-.2 1.41-.59l7.78-7.78 2.81-2.81c.8-.78.8-2.07 0-2.86zM5.41 20L4 18.59l7.72-7.72 1.47 1.35L5.41 20z\"/>\n",
              "  </svg>\n",
              "      </button>\n",
              "      \n",
              "  <style>\n",
              "    .colab-df-container {\n",
              "      display:flex;\n",
              "      flex-wrap:wrap;\n",
              "      gap: 12px;\n",
              "    }\n",
              "\n",
              "    .colab-df-convert {\n",
              "      background-color: #E8F0FE;\n",
              "      border: none;\n",
              "      border-radius: 50%;\n",
              "      cursor: pointer;\n",
              "      display: none;\n",
              "      fill: #1967D2;\n",
              "      height: 32px;\n",
              "      padding: 0 0 0 0;\n",
              "      width: 32px;\n",
              "    }\n",
              "\n",
              "    .colab-df-convert:hover {\n",
              "      background-color: #E2EBFA;\n",
              "      box-shadow: 0px 1px 2px rgba(60, 64, 67, 0.3), 0px 1px 3px 1px rgba(60, 64, 67, 0.15);\n",
              "      fill: #174EA6;\n",
              "    }\n",
              "\n",
              "    [theme=dark] .colab-df-convert {\n",
              "      background-color: #3B4455;\n",
              "      fill: #D2E3FC;\n",
              "    }\n",
              "\n",
              "    [theme=dark] .colab-df-convert:hover {\n",
              "      background-color: #434B5C;\n",
              "      box-shadow: 0px 1px 3px 1px rgba(0, 0, 0, 0.15);\n",
              "      filter: drop-shadow(0px 1px 2px rgba(0, 0, 0, 0.3));\n",
              "      fill: #FFFFFF;\n",
              "    }\n",
              "  </style>\n",
              "\n",
              "      <script>\n",
              "        const buttonEl =\n",
              "          document.querySelector('#df-2cb1db76-e36a-498a-a4dc-9065fdbe0727 button.colab-df-convert');\n",
              "        buttonEl.style.display =\n",
              "          google.colab.kernel.accessAllowed ? 'block' : 'none';\n",
              "\n",
              "        async function convertToInteractive(key) {\n",
              "          const element = document.querySelector('#df-2cb1db76-e36a-498a-a4dc-9065fdbe0727');\n",
              "          const dataTable =\n",
              "            await google.colab.kernel.invokeFunction('convertToInteractive',\n",
              "                                                     [key], {});\n",
              "          if (!dataTable) return;\n",
              "\n",
              "          const docLinkHtml = 'Like what you see? Visit the ' +\n",
              "            '<a target=\"_blank\" href=https://colab.research.google.com/notebooks/data_table.ipynb>data table notebook</a>'\n",
              "            + ' to learn more about interactive tables.';\n",
              "          element.innerHTML = '';\n",
              "          dataTable['output_type'] = 'display_data';\n",
              "          await google.colab.output.renderOutput(dataTable, element);\n",
              "          const docLink = document.createElement('div');\n",
              "          docLink.innerHTML = docLinkHtml;\n",
              "          element.appendChild(docLink);\n",
              "        }\n",
              "      </script>\n",
              "    </div>\n",
              "  </div>\n",
              "  "
            ]
          },
          "metadata": {},
          "execution_count": 10
        }
      ],
      "source": [
        "df.describe() #summary statistics for numerical data"
      ]
    },
    {
      "cell_type": "code",
      "execution_count": 11,
      "metadata": {
        "colab": {
          "base_uri": "https://localhost:8080/",
          "height": 552
        },
        "id": "Ipc655kma46S",
        "outputId": "b060908f-b51b-499e-d283-5d867c2f2dea"
      },
      "outputs": [
        {
          "output_type": "execute_result",
          "data": {
            "text/plain": [
              "   Reference ID                                          Reference  \\\n",
              "0             1  DDESB BOM \"SCALING STUDIES OF THERMAL RADIATIO...   \n",
              "1             1  DDESB BOM \"SCALING STUDIES OF THERMAL RADIATIO...   \n",
              "2             1  DDESB BOM \"SCALING STUDIES OF THERMAL RADIATIO...   \n",
              "\n",
              "  Propellant type Test #  Mass, kg  Distance, m  Peak heat flux, cal/cm2/sec  \\\n",
              "0         IMR5010      1      45.4          3.2                        1.750   \n",
              "1         IMR5010      1      45.4          4.0                        1.050   \n",
              "2         IMR5010      1      45.4          5.0                        1.068   \n",
              "\n",
              "   Average heat flux, cal/cm2/sec  Burn time, sec total heat radiated, Mcal  \\\n",
              "0                           0.482            35.0                      13.8   \n",
              "1                           0.329            35.0                      13.8   \n",
              "2                           0.289            35.0                      13.8   \n",
              "\n",
              "    Notes Drum diameter, cm Unique ID  Safe Heat Flux, cal/cm2/sec  \n",
              "0  Barrel                60      R1T1                        0.116  \n",
              "1  Barrel                60      R1T1                        0.116  \n",
              "2  Barrel                60      R1T1                        0.116  "
            ],
            "text/html": [
              "\n",
              "  <div id=\"df-a77eaa6c-342b-4cb4-abe4-62699ddbf6c1\">\n",
              "    <div class=\"colab-df-container\">\n",
              "      <div>\n",
              "<style scoped>\n",
              "    .dataframe tbody tr th:only-of-type {\n",
              "        vertical-align: middle;\n",
              "    }\n",
              "\n",
              "    .dataframe tbody tr th {\n",
              "        vertical-align: top;\n",
              "    }\n",
              "\n",
              "    .dataframe thead th {\n",
              "        text-align: right;\n",
              "    }\n",
              "</style>\n",
              "<table border=\"1\" class=\"dataframe\">\n",
              "  <thead>\n",
              "    <tr style=\"text-align: right;\">\n",
              "      <th></th>\n",
              "      <th>Reference ID</th>\n",
              "      <th>Reference</th>\n",
              "      <th>Propellant type</th>\n",
              "      <th>Test #</th>\n",
              "      <th>Mass, kg</th>\n",
              "      <th>Distance, m</th>\n",
              "      <th>Peak heat flux, cal/cm2/sec</th>\n",
              "      <th>Average heat flux, cal/cm2/sec</th>\n",
              "      <th>Burn time, sec</th>\n",
              "      <th>total heat radiated, Mcal</th>\n",
              "      <th>Notes</th>\n",
              "      <th>Drum diameter, cm</th>\n",
              "      <th>Unique ID</th>\n",
              "      <th>Safe Heat Flux, cal/cm2/sec</th>\n",
              "    </tr>\n",
              "  </thead>\n",
              "  <tbody>\n",
              "    <tr>\n",
              "      <th>0</th>\n",
              "      <td>1</td>\n",
              "      <td>DDESB BOM \"SCALING STUDIES OF THERMAL RADIATIO...</td>\n",
              "      <td>IMR5010</td>\n",
              "      <td>1</td>\n",
              "      <td>45.4</td>\n",
              "      <td>3.2</td>\n",
              "      <td>1.750</td>\n",
              "      <td>0.482</td>\n",
              "      <td>35.0</td>\n",
              "      <td>13.8</td>\n",
              "      <td>Barrel</td>\n",
              "      <td>60</td>\n",
              "      <td>R1T1</td>\n",
              "      <td>0.116</td>\n",
              "    </tr>\n",
              "    <tr>\n",
              "      <th>1</th>\n",
              "      <td>1</td>\n",
              "      <td>DDESB BOM \"SCALING STUDIES OF THERMAL RADIATIO...</td>\n",
              "      <td>IMR5010</td>\n",
              "      <td>1</td>\n",
              "      <td>45.4</td>\n",
              "      <td>4.0</td>\n",
              "      <td>1.050</td>\n",
              "      <td>0.329</td>\n",
              "      <td>35.0</td>\n",
              "      <td>13.8</td>\n",
              "      <td>Barrel</td>\n",
              "      <td>60</td>\n",
              "      <td>R1T1</td>\n",
              "      <td>0.116</td>\n",
              "    </tr>\n",
              "    <tr>\n",
              "      <th>2</th>\n",
              "      <td>1</td>\n",
              "      <td>DDESB BOM \"SCALING STUDIES OF THERMAL RADIATIO...</td>\n",
              "      <td>IMR5010</td>\n",
              "      <td>1</td>\n",
              "      <td>45.4</td>\n",
              "      <td>5.0</td>\n",
              "      <td>1.068</td>\n",
              "      <td>0.289</td>\n",
              "      <td>35.0</td>\n",
              "      <td>13.8</td>\n",
              "      <td>Barrel</td>\n",
              "      <td>60</td>\n",
              "      <td>R1T1</td>\n",
              "      <td>0.116</td>\n",
              "    </tr>\n",
              "  </tbody>\n",
              "</table>\n",
              "</div>\n",
              "      <button class=\"colab-df-convert\" onclick=\"convertToInteractive('df-a77eaa6c-342b-4cb4-abe4-62699ddbf6c1')\"\n",
              "              title=\"Convert this dataframe to an interactive table.\"\n",
              "              style=\"display:none;\">\n",
              "        \n",
              "  <svg xmlns=\"http://www.w3.org/2000/svg\" height=\"24px\"viewBox=\"0 0 24 24\"\n",
              "       width=\"24px\">\n",
              "    <path d=\"M0 0h24v24H0V0z\" fill=\"none\"/>\n",
              "    <path d=\"M18.56 5.44l.94 2.06.94-2.06 2.06-.94-2.06-.94-.94-2.06-.94 2.06-2.06.94zm-11 1L8.5 8.5l.94-2.06 2.06-.94-2.06-.94L8.5 2.5l-.94 2.06-2.06.94zm10 10l.94 2.06.94-2.06 2.06-.94-2.06-.94-.94-2.06-.94 2.06-2.06.94z\"/><path d=\"M17.41 7.96l-1.37-1.37c-.4-.4-.92-.59-1.43-.59-.52 0-1.04.2-1.43.59L10.3 9.45l-7.72 7.72c-.78.78-.78 2.05 0 2.83L4 21.41c.39.39.9.59 1.41.59.51 0 1.02-.2 1.41-.59l7.78-7.78 2.81-2.81c.8-.78.8-2.07 0-2.86zM5.41 20L4 18.59l7.72-7.72 1.47 1.35L5.41 20z\"/>\n",
              "  </svg>\n",
              "      </button>\n",
              "      \n",
              "  <style>\n",
              "    .colab-df-container {\n",
              "      display:flex;\n",
              "      flex-wrap:wrap;\n",
              "      gap: 12px;\n",
              "    }\n",
              "\n",
              "    .colab-df-convert {\n",
              "      background-color: #E8F0FE;\n",
              "      border: none;\n",
              "      border-radius: 50%;\n",
              "      cursor: pointer;\n",
              "      display: none;\n",
              "      fill: #1967D2;\n",
              "      height: 32px;\n",
              "      padding: 0 0 0 0;\n",
              "      width: 32px;\n",
              "    }\n",
              "\n",
              "    .colab-df-convert:hover {\n",
              "      background-color: #E2EBFA;\n",
              "      box-shadow: 0px 1px 2px rgba(60, 64, 67, 0.3), 0px 1px 3px 1px rgba(60, 64, 67, 0.15);\n",
              "      fill: #174EA6;\n",
              "    }\n",
              "\n",
              "    [theme=dark] .colab-df-convert {\n",
              "      background-color: #3B4455;\n",
              "      fill: #D2E3FC;\n",
              "    }\n",
              "\n",
              "    [theme=dark] .colab-df-convert:hover {\n",
              "      background-color: #434B5C;\n",
              "      box-shadow: 0px 1px 3px 1px rgba(0, 0, 0, 0.15);\n",
              "      filter: drop-shadow(0px 1px 2px rgba(0, 0, 0, 0.3));\n",
              "      fill: #FFFFFF;\n",
              "    }\n",
              "  </style>\n",
              "\n",
              "      <script>\n",
              "        const buttonEl =\n",
              "          document.querySelector('#df-a77eaa6c-342b-4cb4-abe4-62699ddbf6c1 button.colab-df-convert');\n",
              "        buttonEl.style.display =\n",
              "          google.colab.kernel.accessAllowed ? 'block' : 'none';\n",
              "\n",
              "        async function convertToInteractive(key) {\n",
              "          const element = document.querySelector('#df-a77eaa6c-342b-4cb4-abe4-62699ddbf6c1');\n",
              "          const dataTable =\n",
              "            await google.colab.kernel.invokeFunction('convertToInteractive',\n",
              "                                                     [key], {});\n",
              "          if (!dataTable) return;\n",
              "\n",
              "          const docLinkHtml = 'Like what you see? Visit the ' +\n",
              "            '<a target=\"_blank\" href=https://colab.research.google.com/notebooks/data_table.ipynb>data table notebook</a>'\n",
              "            + ' to learn more about interactive tables.';\n",
              "          element.innerHTML = '';\n",
              "          dataTable['output_type'] = 'display_data';\n",
              "          await google.colab.output.renderOutput(dataTable, element);\n",
              "          const docLink = document.createElement('div');\n",
              "          docLink.innerHTML = docLinkHtml;\n",
              "          element.appendChild(docLink);\n",
              "        }\n",
              "      </script>\n",
              "    </div>\n",
              "  </div>\n",
              "  "
            ]
          },
          "metadata": {},
          "execution_count": 11
        }
      ],
      "source": [
        "df.head(3) #first 3 rows of the data frame"
      ]
    },
    {
      "cell_type": "markdown",
      "metadata": {
        "id": "v5vdmI6ia46T"
      },
      "source": [
        "## Plot of the Safe Heat Flux vs. Exposure Time"
      ]
    },
    {
      "cell_type": "markdown",
      "metadata": {
        "id": "atR9QZYDa46T"
      },
      "source": [
        "Safe heat flux is per 6055.09, 2012, V1.E9.3.1.2 to prevent second degree burns. with the included limit that after a duration of 20 seconds, the allowable heat flux remains constant at with increasing exposure time. "
      ]
    },
    {
      "cell_type": "code",
      "execution_count": 12,
      "metadata": {
        "scrolled": false,
        "colab": {
          "base_uri": "https://localhost:8080/",
          "height": 283
        },
        "id": "HxRrSjrza46T",
        "outputId": "679d1350-0ee3-461a-b5f9-f8702c4b997d"
      },
      "outputs": [
        {
          "output_type": "display_data",
          "data": {
            "text/plain": [
              "<Figure size 432x288 with 1 Axes>"
            ],
            "image/png": "[encoded data removed]"
          },
          "metadata": {
            "needs_background": "light"
          }
        }
      ],
      "source": [
        "fig, ax = plt.subplots(1,1,figsize=(6,4))\n",
        "x = np.arange(.1,200,0.05); y=[safeHF(x) for x in x]; \n",
        "ax.set_xscale('log');\n",
        "plt.plot(x,y);\n",
        "ax.fill_between(x,y,color=\"blue\", alpha=0.1)\n",
        "plt.text(0.2, 1, 'Safe');plt.text(3, 1, 'Unsafe');plt.text(40, 0.2, '0.116') #, bbox=dict(facecolor='red', alpha=0.5))\n",
        "plt.text(.25,3,'$q_{safe}=(t/0.858)^{-1/1.46}$')\n",
        "plt.xlabel('Exposure Time, sec');plt.ylabel('Heat Flux, cal/cm2/sec')\n",
        "plt.show(block=False)"
      ]
    },
    {
      "cell_type": "markdown",
      "metadata": {
        "id": "ULIAVo_Ka46U"
      },
      "source": [
        "Here, burn time is equated to the exposure time. After 20 seconds the allowed heat flux is constant at 0.116 cal/cm2/s"
      ]
    },
    {
      "cell_type": "markdown",
      "metadata": {
        "id": "V6ReJjtVa46U"
      },
      "source": [
        "### Calculate a safe distance based on the point source model"
      ]
    },
    {
      "cell_type": "markdown",
      "metadata": {
        "id": "vmU0I91da46U"
      },
      "source": [
        "Calculate a safe distance based on the average heat flux. The average heat flux is used instead of the peak heat flux as the peak heat flux is a short term event and is a small fraction of the total burn typically. The parameters of a Point Source Model are found according to the following where $r^2$ is the squared distance from the center of the fire: \n",
        "\\begin{equation}\n",
        "q = \\frac{\\alpha}{r^2} \\\\\n",
        "\\end{equation}"
      ]
    },
    {
      "cell_type": "code",
      "execution_count": 13,
      "metadata": {
        "id": "hHonCjF4a46V"
      },
      "outputs": [],
      "source": [
        "#completed for each test (unique id)\n",
        "alphas = df.groupby('Unique ID').apply(lambda x: np.percentile(\n",
        "    x['Average heat flux, cal/cm2/sec']*x['Distance, m']**2,75))\n",
        "alphas = [1 if each < 1 else each for each in alphas]\n",
        "safeDistance = np.sqrt(alphas/safeQ)\n",
        "safeDistance = pd.Series(safeDistance)\n",
        "safeDistance.name = 'Safe Distance, m'\n",
        "safeDistance.index = safeQ.index"
      ]
    },
    {
      "cell_type": "code",
      "execution_count": 14,
      "metadata": {
        "id": "G4-iS3pMa46V"
      },
      "outputs": [],
      "source": [
        "df['Safe Distance, m'] =  df['Unique ID'].apply(lambda x:safeDistance.loc[x])"
      ]
    },
    {
      "cell_type": "code",
      "source": [
        "mlin = np.linspace(1,100000,num=500)\n",
        "ibd = [max(22.9,np.exp(1.4715+0.2429*np.log(each)+0.00384*(np.log(each))**2)) if each<43544 else np.exp(5.5938-0.5344*np.log(each)+0.04046*(np.log(each))**2) for each in mlin]\n",
        "ibd = pd.DataFrame({'masses':mlin,'ibd':ibd})"
      ],
      "metadata": {
        "id": "TFkTdH7_EVHt"
      },
      "execution_count": 15,
      "outputs": []
    },
    {
      "cell_type": "code",
      "source": [
        "fig, ax = plt.subplots()\n",
        "p = sea.scatterplot(data=df,x='Mass, kg',y='Safe Distance, m',hue='Propellant type',ax=ax);\n",
        "p = sea.lineplot(data=ibd,x='masses',y='ibd',ax=ax)\n",
        "p.set(xscale=\"log\"); p.set(xlim=(1,100000))\n",
        "p.set(yscale=\"log\"); p.set(ylim=(1,1000))\n",
        "plt.show()"
      ],
      "metadata": {
        "colab": {
          "base_uri": "https://localhost:8080/",
          "height": 289
        },
        "id": "GVf-hTdK-wdl",
        "outputId": "c17a9a8c-c393-42c1-8a1b-f2daaddd6275"
      },
      "execution_count": 18,
      "outputs": [
        {
          "output_type": "display_data",
          "data": {
            "text/plain": [
              "<Figure size 432x288 with 1 Axes>"
            ],
            "image/png": "[encoded data removed]"
          },
          "metadata": {
            "needs_background": "light"
          }
        }
      ]
    },
    {
      "cell_type": "markdown",
      "metadata": {
        "id": "gbSxweypa46X"
      },
      "source": [
        "## Add modeling results from COMSOL with Radiation in Participating Media\n",
        "COMSOL modeling was completed with a representative barrel of burning material at a given burn rate and temperature with radiative propagation from the hot gases."
      ]
    },
    {
      "cell_type": "code",
      "execution_count": 28,
      "metadata": {
        "id": "Fu3sc0XFa46X"
      },
      "outputs": [],
      "source": [
        "url='https://raw.githubusercontent.com/clint-bg/publicationdata/main/parametricstudy.csv'\n",
        "dfm = pd.read_csv(url)\n",
        "dft = pd.concat([df,dfm])"
      ]
    },
    {
      "cell_type": "code",
      "execution_count": 29,
      "metadata": {
        "colab": {
          "base_uri": "https://localhost:8080/",
          "height": 206
        },
        "id": "jYObiZz9a46X",
        "outputId": "8ccc1b6e-dc8b-46d8-d9aa-b7798c6c5b63"
      },
      "outputs": [
        {
          "output_type": "execute_result",
          "data": {
            "text/plain": [
              "   Drum diameter, cm  Safe Distance, m  Burn rate, kg/s Unique ID  \\\n",
              "0               36.0          7.493090              0.5        M1   \n",
              "1               36.0          8.804850              1.0        M2   \n",
              "2               36.0          9.279851              2.0        M3   \n",
              "3               36.0          8.384938              5.0        M4   \n",
              "4               36.0          6.826140             10.0        M5   \n",
              "\n",
              "  Propellant type  Mass, kg                                              Notes  \n",
              "0           Model      6.81  Mass estimated from burn rates (with base burn...  \n",
              "1           Model     13.62  Mass estimated from burn rates (with base burn...  \n",
              "2           Model     27.24  Mass estimated from burn rates (with base burn...  \n",
              "3           Model     68.10  Mass estimated from burn rates (with base burn...  \n",
              "4           Model    136.20  Mass estimated from burn rates (with base burn...  "
            ],
            "text/html": [
              "\n",
              "  <div id=\"df-e23e7581-e950-4460-a0a0-91bd2795510b\">\n",
              "    <div class=\"colab-df-container\">\n",
              "      <div>\n",
              "<style scoped>\n",
              "    .dataframe tbody tr th:only-of-type {\n",
              "        vertical-align: middle;\n",
              "    }\n",
              "\n",
              "    .dataframe tbody tr th {\n",
              "        vertical-align: top;\n",
              "    }\n",
              "\n",
              "    .dataframe thead th {\n",
              "        text-align: right;\n",
              "    }\n",
              "</style>\n",
              "<table border=\"1\" class=\"dataframe\">\n",
              "  <thead>\n",
              "    <tr style=\"text-align: right;\">\n",
              "      <th></th>\n",
              "      <th>Drum diameter, cm</th>\n",
              "      <th>Safe Distance, m</th>\n",
              "      <th>Burn rate, kg/s</th>\n",
              "      <th>Unique ID</th>\n",
              "      <th>Propellant type</th>\n",
              "      <th>Mass, kg</th>\n",
              "      <th>Notes</th>\n",
              "    </tr>\n",
              "  </thead>\n",
              "  <tbody>\n",
              "    <tr>\n",
              "      <th>0</th>\n",
              "      <td>36.0</td>\n",
              "      <td>7.493090</td>\n",
              "      <td>0.5</td>\n",
              "      <td>M1</td>\n",
              "      <td>Model</td>\n",
              "      <td>6.81</td>\n",
              "      <td>Mass estimated from burn rates (with base burn...</td>\n",
              "    </tr>\n",
              "    <tr>\n",
              "      <th>1</th>\n",
              "      <td>36.0</td>\n",
              "      <td>8.804850</td>\n",
              "      <td>1.0</td>\n",
              "      <td>M2</td>\n",
              "      <td>Model</td>\n",
              "      <td>13.62</td>\n",
              "      <td>Mass estimated from burn rates (with base burn...</td>\n",
              "    </tr>\n",
              "    <tr>\n",
              "      <th>2</th>\n",
              "      <td>36.0</td>\n",
              "      <td>9.279851</td>\n",
              "      <td>2.0</td>\n",
              "      <td>M3</td>\n",
              "      <td>Model</td>\n",
              "      <td>27.24</td>\n",
              "      <td>Mass estimated from burn rates (with base burn...</td>\n",
              "    </tr>\n",
              "    <tr>\n",
              "      <th>3</th>\n",
              "      <td>36.0</td>\n",
              "      <td>8.384938</td>\n",
              "      <td>5.0</td>\n",
              "      <td>M4</td>\n",
              "      <td>Model</td>\n",
              "      <td>68.10</td>\n",
              "      <td>Mass estimated from burn rates (with base burn...</td>\n",
              "    </tr>\n",
              "    <tr>\n",
              "      <th>4</th>\n",
              "      <td>36.0</td>\n",
              "      <td>6.826140</td>\n",
              "      <td>10.0</td>\n",
              "      <td>M5</td>\n",
              "      <td>Model</td>\n",
              "      <td>136.20</td>\n",
              "      <td>Mass estimated from burn rates (with base burn...</td>\n",
              "    </tr>\n",
              "  </tbody>\n",
              "</table>\n",
              "</div>\n",
              "      <button class=\"colab-df-convert\" onclick=\"convertToInteractive('df-e23e7581-e950-4460-a0a0-91bd2795510b')\"\n",
              "              title=\"Convert this dataframe to an interactive table.\"\n",
              "              style=\"display:none;\">\n",
              "        \n",
              "  <svg xmlns=\"http://www.w3.org/2000/svg\" height=\"24px\"viewBox=\"0 0 24 24\"\n",
              "       width=\"24px\">\n",
              "    <path d=\"M0 0h24v24H0V0z\" fill=\"none\"/>\n",
              "    <path d=\"M18.56 5.44l.94 2.06.94-2.06 2.06-.94-2.06-.94-.94-2.06-.94 2.06-2.06.94zm-11 1L8.5 8.5l.94-2.06 2.06-.94-2.06-.94L8.5 2.5l-.94 2.06-2.06.94zm10 10l.94 2.06.94-2.06 2.06-.94-2.06-.94-.94-2.06-.94 2.06-2.06.94z\"/><path d=\"M17.41 7.96l-1.37-1.37c-.4-.4-.92-.59-1.43-.59-.52 0-1.04.2-1.43.59L10.3 9.45l-7.72 7.72c-.78.78-.78 2.05 0 2.83L4 21.41c.39.39.9.59 1.41.59.51 0 1.02-.2 1.41-.59l7.78-7.78 2.81-2.81c.8-.78.8-2.07 0-2.86zM5.41 20L4 18.59l7.72-7.72 1.47 1.35L5.41 20z\"/>\n",
              "  </svg>\n",
              "      </button>\n",
              "      \n",
              "  <style>\n",
              "    .colab-df-container {\n",
              "      display:flex;\n",
              "      flex-wrap:wrap;\n",
              "      gap: 12px;\n",
              "    }\n",
              "\n",
              "    .colab-df-convert {\n",
              "      background-color: #E8F0FE;\n",
              "      border: none;\n",
              "      border-radius: 50%;\n",
              "      cursor: pointer;\n",
              "      display: none;\n",
              "      fill: #1967D2;\n",
              "      height: 32px;\n",
              "      padding: 0 0 0 0;\n",
              "      width: 32px;\n",
              "    }\n",
              "\n",
              "    .colab-df-convert:hover {\n",
              "      background-color: #E2EBFA;\n",
              "      box-shadow: 0px 1px 2px rgba(60, 64, 67, 0.3), 0px 1px 3px 1px rgba(60, 64, 67, 0.15);\n",
              "      fill: #174EA6;\n",
              "    }\n",
              "\n",
              "    [theme=dark] .colab-df-convert {\n",
              "      background-color: #3B4455;\n",
              "      fill: #D2E3FC;\n",
              "    }\n",
              "\n",
              "    [theme=dark] .colab-df-convert:hover {\n",
              "      background-color: #434B5C;\n",
              "      box-shadow: 0px 1px 3px 1px rgba(0, 0, 0, 0.15);\n",
              "      filter: drop-shadow(0px 1px 2px rgba(0, 0, 0, 0.3));\n",
              "      fill: #FFFFFF;\n",
              "    }\n",
              "  </style>\n",
              "\n",
              "      <script>\n",
              "        const buttonEl =\n",
              "          document.querySelector('#df-e23e7581-e950-4460-a0a0-91bd2795510b button.colab-df-convert');\n",
              "        buttonEl.style.display =\n",
              "          google.colab.kernel.accessAllowed ? 'block' : 'none';\n",
              "\n",
              "        async function convertToInteractive(key) {\n",
              "          const element = document.querySelector('#df-e23e7581-e950-4460-a0a0-91bd2795510b');\n",
              "          const dataTable =\n",
              "            await google.colab.kernel.invokeFunction('convertToInteractive',\n",
              "                                                     [key], {});\n",
              "          if (!dataTable) return;\n",
              "\n",
              "          const docLinkHtml = 'Like what you see? Visit the ' +\n",
              "            '<a target=\"_blank\" href=https://colab.research.google.com/notebooks/data_table.ipynb>data table notebook</a>'\n",
              "            + ' to learn more about interactive tables.';\n",
              "          element.innerHTML = '';\n",
              "          dataTable['output_type'] = 'display_data';\n",
              "          await google.colab.output.renderOutput(dataTable, element);\n",
              "          const docLink = document.createElement('div');\n",
              "          docLink.innerHTML = docLinkHtml;\n",
              "          element.appendChild(docLink);\n",
              "        }\n",
              "      </script>\n",
              "    </div>\n",
              "  </div>\n",
              "  "
            ]
          },
          "metadata": {},
          "execution_count": 29
        }
      ],
      "source": [
        "dfm.head()"
      ]
    },
    {
      "cell_type": "code",
      "source": [
        "fig, ax = plt.subplots(figsize=(12,8))\n",
        "p = sea.scatterplot(data=dft,x='Mass, kg',y='Safe Distance, m',hue='Propellant type',s=75,ax=ax);\n",
        "p = sea.lineplot(data=ibd,x='masses',y='ibd',ax=ax)\n",
        "p.set(xscale=\"log\"); p.set(xlim=(1,100000))\n",
        "p.set(yscale=\"log\"); p.set(ylim=(1,1000))\n",
        "plt.show()"
      ],
      "metadata": {
        "colab": {
          "base_uri": "https://localhost:8080/",
          "height": 506
        },
        "id": "xEImClzET-5F",
        "outputId": "9e71b3f0-47ed-4d4b-9c10-326702cf615a"
      },
      "execution_count": 30,
      "outputs": [
        {
          "output_type": "display_data",
          "data": {
            "text/plain": [
              "<Figure size 864x576 with 1 Axes>"
            ],
            "image/png": "[encoded data removed]"
          },
          "metadata": {
            "needs_background": "light"
          }
        }
      ]
    },
    {
      "cell_type": "markdown",
      "source": [
        "Note that there are many different ways that a safe distance could be estimated. The method used here is viewed by the authors as a conservative estimate. In previous plots, a modified version of the point source model with a 1/r dependence transitioning to a 1/r^2 dependence was used yielding slightly different results but with the same conclusion that the existing IBD line is effective in specifying a safe distance."
      ],
      "metadata": {
        "id": "0fXOV6rFZyMy"
      }
    },
    {
      "cell_type": "code",
      "source": [],
      "metadata": {
        "id": "3tVtXgTzZc3e"
      },
      "execution_count": null,
      "outputs": []
    }
  ],
  "metadata": {
    "deepnote_execution_queue": [],
    "kernelspec": {
      "display_name": "Python 3",
      "language": "python",
      "name": "python3"
    },
    "language_info": {
      "codemirror_mode": {
        "name": "ipython",
        "version": 3
      },
      "file_extension": ".py",
      "mimetype": "text/x-python",
      "name": "python",
      "nbconvert_exporter": "python",
      "pygments_lexer": "ipython3",
      "version": "3.8.5"
    },
    "colab": {
      "name": "safeDistancesOpenBurn.ipynb",
      "provenance": [],
      "collapsed_sections": [],
      "toc_visible": true,
      "include_colab_link": true
    }
  },
  "nbformat": 4,
  "nbformat_minor": 0
}